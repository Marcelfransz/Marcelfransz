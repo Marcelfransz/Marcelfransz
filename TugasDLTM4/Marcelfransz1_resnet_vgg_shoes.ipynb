{
  "cells": [
    {
      "cell_type": "code",
      "execution_count": null,
      "id": "492d9d2f",
      "metadata": {
        "_cell_guid": "b1076dfc-b9ad-4769-8c92-a6c4dae69d19",
        "_kg_hide-input": false,
        "_kg_hide-output": true,
        "_uuid": "8f2839f25d086af736a60e9eeb907d3b93b6e0e5",
        "execution": {
          "iopub.execute_input": "2024-01-20T18:36:23.749075Z",
          "iopub.status.busy": "2024-01-20T18:36:23.748204Z",
          "iopub.status.idle": "2024-01-20T18:36:24.545383Z",
          "shell.execute_reply": "2024-01-20T18:36:24.544422Z"
        },
        "papermill": {
          "duration": 0.807119,
          "end_time": "2024-01-20T18:36:24.547822",
          "exception": false,
          "start_time": "2024-01-20T18:36:23.740703",
          "status": "completed"
        },
        "scrolled": true,
        "tags": [],
        "id": "492d9d2f"
      },
      "outputs": [],
      "source": [
        "# This Python 3 environment comes with many helpful analytics libraries installed\n",
        "# It is defined by the kaggle/python Docker image: https://github.com/kaggle/docker-python\n",
        "# For example, here's several helpful packages to load\n",
        "\n",
        "import numpy as np # linear algebra\n",
        "import pandas as pd # data processing, CSV file I/O (e.g. pd.read_csv)\n",
        "# You can write up to 20GB to the current directory (/kaggle/working/) that gets preserved as output when you create a version using \"Save & Run All\"\n",
        "# You can also write temporary files to /kaggle/temp/, but they won't be saved outside of the current session"
      ]
    },
    {
      "cell_type": "code",
      "execution_count": null,
      "id": "92029576",
      "metadata": {
        "execution": {
          "iopub.execute_input": "2024-01-20T18:36:24.559780Z",
          "iopub.status.busy": "2024-01-20T18:36:24.559345Z",
          "iopub.status.idle": "2024-01-20T18:36:38.050928Z",
          "shell.execute_reply": "2024-01-20T18:36:38.050067Z"
        },
        "papermill": {
          "duration": 13.499905,
          "end_time": "2024-01-20T18:36:38.053262",
          "exception": false,
          "start_time": "2024-01-20T18:36:24.553357",
          "status": "completed"
        },
        "tags": [],
        "id": "92029576"
      },
      "outputs": [],
      "source": [
        "import os\n",
        "import tensorflow as tf\n",
        "from tensorflow import keras\n",
        "from tensorflow.keras.optimizers import Adam\n",
        "from sklearn.model_selection import train_test_split\n",
        "from tensorflow.keras.metrics import categorical_crossentropy\n",
        "from tensorflow.keras.models import Model, load_model, Sequential\n",
        "from sklearn.metrics import confusion_matrix, classification_report\n",
        "from tensorflow.keras.preprocessing.image import ImageDataGenerator\n",
        "from tensorflow.keras.layers import Conv2D, MaxPooling2D, Flatten, Dense, Activation, Dropout, BatchNormalization"
      ]
    },
    {
      "cell_type": "code",
      "source": [
        "from google.colab import drive\n",
        "import os\n",
        "drive.mount('/content/drive/')"
      ],
      "metadata": {
        "colab": {
          "base_uri": "https://localhost:8080/"
        },
        "id": "YF9teXqLnzEQ",
        "outputId": "1392badc-adbc-4a0b-bd10-1cfa46d27da3"
      },
      "id": "YF9teXqLnzEQ",
      "execution_count": null,
      "outputs": [
        {
          "output_type": "stream",
          "name": "stdout",
          "text": [
            "Mounted at /content/drive/\n"
          ]
        }
      ]
    },
    {
      "cell_type": "code",
      "execution_count": null,
      "id": "da495ece",
      "metadata": {
        "execution": {
          "iopub.execute_input": "2024-01-20T18:36:38.065445Z",
          "iopub.status.busy": "2024-01-20T18:36:38.064498Z",
          "iopub.status.idle": "2024-01-20T18:36:38.074594Z",
          "shell.execute_reply": "2024-01-20T18:36:38.073729Z"
        },
        "papermill": {
          "duration": 0.017837,
          "end_time": "2024-01-20T18:36:38.076418",
          "exception": false,
          "start_time": "2024-01-20T18:36:38.058581",
          "status": "completed"
        },
        "tags": [],
        "colab": {
          "base_uri": "https://localhost:8080/"
        },
        "id": "da495ece",
        "outputId": "c96f5cf1-fcf2-4286-856b-71623b14e416"
      },
      "outputs": [
        {
          "output_type": "stream",
          "name": "stdout",
          "text": [
            "Number of classes: 2\n",
            "Target Names: ['nike', 'adidas']\n"
          ]
        }
      ],
      "source": [
        "import os\n",
        "\n",
        "# Specify the path to your dataset\n",
        "fpath = \"/content/drive/My Drive/archive/train\"\n",
        "dataset_path = fpath\n",
        "\n",
        "# Get a list of subdirectories (each subdirectory corresponds to a class)\n",
        "class_folders = [f.name for f in os.scandir(dataset_path) if f.is_dir()]\n",
        "\n",
        "# Get the number of classes\n",
        "num_classes = len(class_folders)\n",
        "\n",
        "# Print the number of classes\n",
        "print(\"Number of classes:\", num_classes)\n",
        "\n",
        "# Create a list of target_names based on the directory names\n",
        "target_names = class_folders\n",
        "print(\"Target Names:\", target_names)\n"
      ]
    },
    {
      "cell_type": "code",
      "execution_count": null,
      "id": "6d1cb27f",
      "metadata": {
        "execution": {
          "iopub.execute_input": "2024-01-20T18:36:38.087901Z",
          "iopub.status.busy": "2024-01-20T18:36:38.087590Z",
          "iopub.status.idle": "2024-01-20T18:36:38.091947Z",
          "shell.execute_reply": "2024-01-20T18:36:38.091078Z"
        },
        "papermill": {
          "duration": 0.01219,
          "end_time": "2024-01-20T18:36:38.094014",
          "exception": false,
          "start_time": "2024-01-20T18:36:38.081824",
          "status": "completed"
        },
        "tags": [],
        "id": "6d1cb27f"
      },
      "outputs": [],
      "source": [
        "img_size = 224\n",
        "batch_size =100\n",
        "fpath = \"/content/drive/My Drive/archive/train\"\n",
        "ffpath=\"/content/drive/My Drive/archive/test\"\n",
        "fffpath=\"/content/drive/My Drive/archive/validation\"\n"
      ]
    },
    {
      "cell_type": "code",
      "execution_count": null,
      "id": "ee308278",
      "metadata": {
        "execution": {
          "iopub.execute_input": "2024-01-20T18:36:38.105223Z",
          "iopub.status.busy": "2024-01-20T18:36:38.104962Z",
          "iopub.status.idle": "2024-01-20T18:36:38.171852Z",
          "shell.execute_reply": "2024-01-20T18:36:38.171106Z"
        },
        "papermill": {
          "duration": 0.074937,
          "end_time": "2024-01-20T18:36:38.173816",
          "exception": false,
          "start_time": "2024-01-20T18:36:38.098879",
          "status": "completed"
        },
        "tags": [],
        "colab": {
          "base_uri": "https://localhost:8080/"
        },
        "id": "ee308278",
        "outputId": "a99d10b9-6cba-4fd4-9442-31bf1bcaaa02"
      },
      "outputs": [
        {
          "output_type": "stream",
          "name": "stdout",
          "text": [
            "Found 460 images belonging to 2 classes.\n",
            "Found 55 images belonging to 2 classes.\n",
            "Found 60 images belonging to 2 classes.\n"
          ]
        }
      ],
      "source": [
        "from tensorflow.keras.preprocessing.image import ImageDataGenerator\n",
        "\n",
        "# Assuming 'fpath' is the path to your dataset and 'batch_size' is defined\n",
        "\n",
        "datagen = ImageDataGenerator(\n",
        "    rescale=1/255.,\n",
        "    zoom_range=0.2,\n",
        "    rotation_range=30,\n",
        "    horizontal_flip=True\n",
        ")\n",
        "\n",
        "train_gen = datagen.flow_from_directory(\n",
        "    fpath,\n",
        "    target_size=(224, 224),\n",
        "    subset=\"training\",\n",
        "    class_mode='categorical',\n",
        "    batch_size=batch_size\n",
        ")\n",
        "\n",
        "valid_gen = datagen.flow_from_directory(\n",
        "    fffpath,\n",
        "    target_size=(224, 224),\n",
        "    batch_size=(batch_size),\n",
        "    subset='training',\n",
        "    class_mode='categorical'\n",
        ")\n",
        "\n",
        "# For test data\n",
        "test_gen = ImageDataGenerator(rescale=1/255.).flow_from_directory(\n",
        "    ffpath,\n",
        "    target_size=(224, 224),\n",
        "    batch_size=100,\n",
        "    class_mode='categorical',\n",
        "    shuffle=False  # Set shuffle to False for test data\n",
        ")"
      ]
    },
    {
      "cell_type": "code",
      "execution_count": null,
      "id": "ac96fe89",
      "metadata": {
        "_kg_hide-output": true,
        "execution": {
          "iopub.execute_input": "2024-01-20T18:36:38.187466Z",
          "iopub.status.busy": "2024-01-20T18:36:38.187004Z",
          "iopub.status.idle": "2024-01-20T18:39:31.594387Z",
          "shell.execute_reply": "2024-01-20T18:39:31.593479Z"
        },
        "papermill": {
          "duration": 173.41614,
          "end_time": "2024-01-20T18:39:31.596526",
          "exception": false,
          "start_time": "2024-01-20T18:36:38.180386",
          "status": "completed"
        },
        "scrolled": true,
        "tags": [],
        "colab": {
          "base_uri": "https://localhost:8080/"
        },
        "id": "ac96fe89",
        "outputId": "291f339f-ddca-427d-a709-1118d3698cac"
      },
      "outputs": [
        {
          "output_type": "stream",
          "name": "stdout",
          "text": [
            "Downloading data from https://storage.googleapis.com/keras-applications/efficientnetb3_notop.h5\n",
            "43941136/43941136 [==============================] - 0s 0us/step\n",
            "Epoch 1/20\n"
          ]
        },
        {
          "output_type": "stream",
          "name": "stderr",
          "text": [
            "/usr/local/lib/python3.10/dist-packages/PIL/Image.py:996: UserWarning: Palette images with Transparency expressed in bytes should be converted to RGBA images\n",
            "  warnings.warn(\n"
          ]
        },
        {
          "output_type": "stream",
          "name": "stdout",
          "text": [
            "5/5 [==============================] - ETA: 0s - loss: 1.4562 - accuracy: 0.4913 \n",
            "Epoch 1: val_accuracy improved from -inf to 0.49091, saving model to best_model.h5\n"
          ]
        },
        {
          "output_type": "stream",
          "name": "stderr",
          "text": [
            "/usr/local/lib/python3.10/dist-packages/keras/src/engine/training.py:3103: UserWarning: You are saving your model as an HDF5 file via `model.save()`. This file format is considered legacy. We recommend using instead the native Keras format, e.g. `model.save('my_model.keras')`.\n",
            "  saving_api.save_model(\n"
          ]
        },
        {
          "output_type": "stream",
          "name": "stdout",
          "text": [
            "\b\b\b\b\b\b\b\b\b\b\b\b\b\b\b\b\b\b\b\b\b\b\b\b\b\b\b\b\b\b\b\b\b\b\b\b\b\b\b\b\b\b\b\b\b\b\b\b\b\b\b\b\b\b\b\b\b\b\b\b\b\b\b\b\b\b\b\b\b\b\b\b\b\b\b\b\b\b\b\b\r5/5 [==============================] - 131s 24s/step - loss: 1.4562 - accuracy: 0.4913 - val_loss: 0.7898 - val_accuracy: 0.4909\n",
            "Epoch 2/20\n",
            "5/5 [==============================] - ETA: 0s - loss: 1.4252 - accuracy: 0.5043\n",
            "Epoch 2: val_accuracy improved from 0.49091 to 0.50909, saving model to best_model.h5\n",
            "5/5 [==============================] - 10s 2s/step - loss: 1.4252 - accuracy: 0.5043 - val_loss: 0.8799 - val_accuracy: 0.5091\n",
            "Epoch 3/20\n",
            "5/5 [==============================] - ETA: 0s - loss: 1.2365 - accuracy: 0.5109\n",
            "Epoch 3: val_accuracy did not improve from 0.50909\n",
            "5/5 [==============================] - 10s 2s/step - loss: 1.2365 - accuracy: 0.5109 - val_loss: 1.0379 - val_accuracy: 0.4909\n",
            "Epoch 4/20\n",
            "5/5 [==============================] - ETA: 0s - loss: 1.1554 - accuracy: 0.4870\n",
            "Epoch 4: val_accuracy did not improve from 0.50909\n",
            "5/5 [==============================] - 8s 2s/step - loss: 1.1554 - accuracy: 0.4870 - val_loss: 0.7292 - val_accuracy: 0.5091\n",
            "Epoch 5/20\n",
            "5/5 [==============================] - ETA: 0s - loss: 0.9689 - accuracy: 0.4630\n",
            "Epoch 5: val_accuracy did not improve from 0.50909\n",
            "5/5 [==============================] - 10s 2s/step - loss: 0.9689 - accuracy: 0.4630 - val_loss: 0.7967 - val_accuracy: 0.4909\n",
            "Epoch 6/20\n",
            "5/5 [==============================] - ETA: 0s - loss: 0.9399 - accuracy: 0.4652\n",
            "Epoch 6: val_accuracy did not improve from 0.50909\n",
            "5/5 [==============================] - 10s 2s/step - loss: 0.9399 - accuracy: 0.4652 - val_loss: 1.3186 - val_accuracy: 0.4909\n",
            "Epoch 7/20\n",
            "5/5 [==============================] - ETA: 0s - loss: 0.9029 - accuracy: 0.5022\n",
            "Epoch 7: val_accuracy did not improve from 0.50909\n",
            "5/5 [==============================] - 10s 2s/step - loss: 0.9029 - accuracy: 0.5022 - val_loss: 0.7242 - val_accuracy: 0.5091\n",
            "Epoch 8/20\n",
            "5/5 [==============================] - ETA: 0s - loss: 0.8779 - accuracy: 0.4913\n",
            "Epoch 8: val_accuracy did not improve from 0.50909\n",
            "5/5 [==============================] - 9s 2s/step - loss: 0.8779 - accuracy: 0.4913 - val_loss: 0.7435 - val_accuracy: 0.5091\n",
            "Epoch 9/20\n",
            "5/5 [==============================] - ETA: 0s - loss: 0.7985 - accuracy: 0.5261\n",
            "Epoch 9: val_accuracy did not improve from 0.50909\n",
            "5/5 [==============================] - 10s 2s/step - loss: 0.7985 - accuracy: 0.5261 - val_loss: 0.6937 - val_accuracy: 0.5091\n",
            "Epoch 10/20\n",
            "5/5 [==============================] - ETA: 0s - loss: 0.8286 - accuracy: 0.4587\n",
            "Epoch 10: val_accuracy did not improve from 0.50909\n",
            "5/5 [==============================] - 10s 2s/step - loss: 0.8286 - accuracy: 0.4587 - val_loss: 0.6920 - val_accuracy: 0.5091\n",
            "Epoch 11/20\n",
            "5/5 [==============================] - ETA: 0s - loss: 0.7831 - accuracy: 0.5087\n",
            "Epoch 11: val_accuracy did not improve from 0.50909\n",
            "5/5 [==============================] - 9s 2s/step - loss: 0.7831 - accuracy: 0.5087 - val_loss: 0.6953 - val_accuracy: 0.5091\n",
            "Epoch 12/20\n",
            "5/5 [==============================] - ETA: 0s - loss: 0.7893 - accuracy: 0.5239\n",
            "Epoch 12: val_accuracy did not improve from 0.50909\n",
            "5/5 [==============================] - 10s 2s/step - loss: 0.7893 - accuracy: 0.5239 - val_loss: 0.6958 - val_accuracy: 0.5091\n",
            "Epoch 13/20\n",
            "5/5 [==============================] - ETA: 0s - loss: 0.8095 - accuracy: 0.5000\n",
            "Epoch 13: val_accuracy did not improve from 0.50909\n",
            "5/5 [==============================] - 10s 2s/step - loss: 0.8095 - accuracy: 0.5000 - val_loss: 0.6934 - val_accuracy: 0.5091\n",
            "Epoch 14/20\n",
            "5/5 [==============================] - ETA: 0s - loss: 0.7294 - accuracy: 0.5217\n",
            "Epoch 14: val_accuracy did not improve from 0.50909\n",
            "5/5 [==============================] - 9s 2s/step - loss: 0.7294 - accuracy: 0.5217 - val_loss: 0.6931 - val_accuracy: 0.5091\n",
            "Epoch 15/20\n",
            "5/5 [==============================] - ETA: 0s - loss: 0.7539 - accuracy: 0.4457\n",
            "Epoch 15: val_accuracy did not improve from 0.50909\n",
            "5/5 [==============================] - 9s 2s/step - loss: 0.7539 - accuracy: 0.4457 - val_loss: 0.6938 - val_accuracy: 0.4909\n",
            "Epoch 16/20\n",
            "5/5 [==============================] - ETA: 0s - loss: 0.7487 - accuracy: 0.5413\n",
            "Epoch 16: val_accuracy did not improve from 0.50909\n",
            "5/5 [==============================] - 10s 2s/step - loss: 0.7487 - accuracy: 0.5413 - val_loss: 0.6953 - val_accuracy: 0.4909\n",
            "Epoch 17/20\n",
            "5/5 [==============================] - ETA: 0s - loss: 0.7377 - accuracy: 0.4848\n",
            "Epoch 17: val_accuracy did not improve from 0.50909\n",
            "5/5 [==============================] - 10s 2s/step - loss: 0.7377 - accuracy: 0.4848 - val_loss: 0.6931 - val_accuracy: 0.4909\n",
            "Epoch 18/20\n",
            "5/5 [==============================] - ETA: 0s - loss: 0.6942 - accuracy: 0.5261\n",
            "Epoch 18: val_accuracy did not improve from 0.50909\n",
            "5/5 [==============================] - 8s 2s/step - loss: 0.6942 - accuracy: 0.5261 - val_loss: 0.6936 - val_accuracy: 0.5091\n",
            "Epoch 19/20\n",
            "5/5 [==============================] - ETA: 0s - loss: 0.7176 - accuracy: 0.5109\n",
            "Epoch 19: val_accuracy did not improve from 0.50909\n",
            "5/5 [==============================] - 10s 2s/step - loss: 0.7176 - accuracy: 0.5109 - val_loss: 0.6932 - val_accuracy: 0.5091\n",
            "Epoch 20/20\n",
            "5/5 [==============================] - ETA: 0s - loss: 0.7030 - accuracy: 0.5239\n",
            "Epoch 20: val_accuracy did not improve from 0.50909\n",
            "5/5 [==============================] - 10s 2s/step - loss: 0.7030 - accuracy: 0.5239 - val_loss: 0.6930 - val_accuracy: 0.4909\n"
          ]
        }
      ],
      "source": [
        "import tensorflow as tf\n",
        "from tensorflow.keras.models import Sequential\n",
        "from tensorflow.keras.layers import Dense, Dropout, BatchNormalization\n",
        "from tensorflow.keras.callbacks import ModelCheckpoint\n",
        "\n",
        "# Assuming train_gen and valid_gen are your image data generators\n",
        "\n",
        "img_size = (224, 224)\n",
        "channels = 3\n",
        "img_shape = (img_size[0], img_size[1], channels)\n",
        "class_count = len(list(train_gen.class_indices.keys()))\n",
        "\n",
        "# Create pre-trained model\n",
        "base_model = tf.keras.applications.EfficientNetB3(include_top=False, weights=\"imagenet\", input_shape=img_shape, pooling='max')\n",
        "for layer in base_model.layers:\n",
        "    layer.trainable = False\n",
        "model = Sequential([\n",
        "    base_model,\n",
        "    BatchNormalization(),\n",
        "    Dense(256, activation='relu'),\n",
        "    Dropout(0.3),\n",
        "     Dense(64, activation='relu'),\n",
        "    Dropout(0.3),\n",
        "    Dense(class_count, activation='softmax')\n",
        "])\n",
        "\n",
        "optimizer = tf.keras.optimizers.Adam()\n",
        "model.compile(optimizer=optimizer, loss='categorical_crossentropy', metrics=['accuracy'])\n",
        "\n",
        "# Define filepath to save the best model\n",
        "filepath = 'best_model.h5'\n",
        "\n",
        "# Create ModelCheckpoint callback to save the best model based on validation accuracy\n",
        "checkpoint = ModelCheckpoint(filepath, monitor='val_accuracy', verbose=1, save_best_only=True, mode='max')\n",
        "# Train the model with the added callback\n",
        "\n",
        "history = model.fit(\n",
        "    x=train_gen,\n",
        "    epochs=20,\n",
        "    verbose=1,\n",
        "    validation_data=valid_gen,\n",
        "    callbacks=[checkpoint]\n",
        ")"
      ]
    },
    {
      "cell_type": "code",
      "execution_count": null,
      "id": "61a304b8",
      "metadata": {
        "execution": {
          "iopub.execute_input": "2024-01-20T18:39:31.634721Z",
          "iopub.status.busy": "2024-01-20T18:39:31.634392Z",
          "iopub.status.idle": "2024-01-20T18:39:51.302048Z",
          "shell.execute_reply": "2024-01-20T18:39:51.300806Z"
        },
        "papermill": {
          "duration": 19.688717,
          "end_time": "2024-01-20T18:39:51.304103",
          "exception": false,
          "start_time": "2024-01-20T18:39:31.615386",
          "status": "completed"
        },
        "tags": [],
        "colab": {
          "base_uri": "https://localhost:8080/"
        },
        "id": "61a304b8",
        "outputId": "7f3e2a01-d48f-48bc-c71e-88d8e3e2fdd0"
      },
      "outputs": [
        {
          "output_type": "stream",
          "name": "stdout",
          "text": [
            "5/5 [==============================] - 15s 2s/step - loss: 0.8807 - accuracy: 0.5000\n",
            "1/1 [==============================] - 1s 1s/step - loss: 0.8796 - accuracy: 0.5091\n",
            "1/1 [==============================] - 1s 601ms/step - loss: 0.8558 - accuracy: 0.5000\n",
            "Train Loss:  0.8807314038276672\n",
            "Train Accuracy:  0.5\n",
            "--------------------\n",
            "Validation Loss:  0.8795703053474426\n",
            "Validation Accuracy:  0.5090909004211426\n",
            "--------------------\n",
            "Test Loss:  0.8557823896408081\n",
            "Test Accuracy:  0.5\n"
          ]
        }
      ],
      "source": [
        "import tensorflow as tf\n",
        "from tensorflow.keras.models import load_model, Model\n",
        "from tensorflow.keras.layers import Input, Average\n",
        "\n",
        "\n",
        "\n",
        "model= load_model('best_model.h5')\n",
        "\n",
        "train_score = model.evaluate(train_gen, steps= len(train_gen), verbose= 1)\n",
        "valid_score = model.evaluate(valid_gen, steps= len(valid_gen), verbose= 1)\n",
        "test_score = model.evaluate(test_gen, steps= len(test_gen), verbose= 1)\n",
        "\n",
        "print(\"Train Loss: \", train_score[0])\n",
        "print(\"Train Accuracy: \", train_score[1])\n",
        "print('-' * 20)\n",
        "print(\"Validation Loss: \", valid_score[0])\n",
        "print(\"Validation Accuracy: \", valid_score[1])\n",
        "print('-' * 20)\n",
        "print(\"Test Loss: \", test_score[0])\n",
        "print(\"Test Accuracy: \", test_score[1])"
      ]
    },
    {
      "cell_type": "code",
      "execution_count": null,
      "id": "1d6fa145",
      "metadata": {
        "execution": {
          "iopub.execute_input": "2024-01-20T18:39:51.344215Z",
          "iopub.status.busy": "2024-01-20T18:39:51.343904Z",
          "iopub.status.idle": "2024-01-20T18:39:59.368223Z",
          "shell.execute_reply": "2024-01-20T18:39:59.367156Z"
        },
        "papermill": {
          "duration": 8.046661,
          "end_time": "2024-01-20T18:39:59.370503",
          "exception": false,
          "start_time": "2024-01-20T18:39:51.323842",
          "status": "completed"
        },
        "tags": [],
        "colab": {
          "base_uri": "https://localhost:8080/"
        },
        "id": "1d6fa145",
        "outputId": "6d2ed362-10fc-423e-835b-e4f70d3f193c"
      },
      "outputs": [
        {
          "output_type": "stream",
          "name": "stderr",
          "text": [
            "<ipython-input-9-c704b8641e8f>:2: UserWarning: `Model.predict_generator` is deprecated and will be removed in a future version. Please use `Model.predict`, which supports generators.\n",
            "  preds = model.predict_generator(test_gen)\n"
          ]
        },
        {
          "output_type": "stream",
          "name": "stdout",
          "text": [
            "[1 1 1 1 1 1 1 1 1 1 1 1 1 1 1 1 1 1 1 1 1 1 1 1 1 1 1 1 1 1 1 1 1 1 1 1 1\n",
            " 1 1 1 1 1 1 1 1 1 1 1 1 1 1 1 1 1 1 1 1 1 1 1]\n"
          ]
        }
      ],
      "source": [
        "model = load_model('best_model.h5')\n",
        "preds = model.predict_generator(test_gen)\n",
        "y_pred = np.argmax(preds, axis=1)\n",
        "print(y_pred)"
      ]
    },
    {
      "cell_type": "code",
      "execution_count": null,
      "id": "d4854a36",
      "metadata": {
        "execution": {
          "iopub.execute_input": "2024-01-20T18:39:59.412072Z",
          "iopub.status.busy": "2024-01-20T18:39:59.411427Z",
          "iopub.status.idle": "2024-01-20T18:39:59.420629Z",
          "shell.execute_reply": "2024-01-20T18:39:59.419825Z"
        },
        "papermill": {
          "duration": 0.031323,
          "end_time": "2024-01-20T18:39:59.422423",
          "exception": false,
          "start_time": "2024-01-20T18:39:59.391100",
          "status": "completed"
        },
        "tags": [],
        "id": "d4854a36"
      },
      "outputs": [],
      "source": [
        "import itertools\n",
        "import matplotlib.pyplot as plt\n",
        "def plot_confusion_matrix(cm, classes, normalize= False, title= 'Confusion Matrix', cmap= plt.cm.Blues):\n",
        "    plt.figure(figsize= (10, 10))\n",
        "    plt.imshow(cm, interpolation= 'nearest', cmap= cmap)\n",
        "    plt.title(title)\n",
        "    plt.colorbar()\n",
        "    tick_marks = np.arange(len(classes))\n",
        "    plt.xticks(tick_marks, classes, rotation= 45)\n",
        "    plt.yticks(tick_marks, classes)\n",
        "    if normalize:\n",
        "        cm = cm.astype('float') / cm.sum(axis= 1)[:, np.newaxis]\n",
        "        print('Normalized Confusion Matrix')\n",
        "    else:\n",
        "        print('Confusion Matrix, Without Normalization')\n",
        "    print(cm)\n",
        "    thresh = cm.max() / 2.\n",
        "    for i, j in itertools.product(range(cm.shape[0]), range(cm.shape[1])):\n",
        "        plt.text(j, i, cm[i, j], horizontalalignment= 'center', color= 'white' if cm[i, j] > thresh else 'black')\n",
        "    plt.tight_layout()\n",
        "    plt.ylabel('True Label')\n",
        "    plt.xlabel('Predicted Label')"
      ]
    },
    {
      "cell_type": "code",
      "execution_count": null,
      "id": "39f29d31",
      "metadata": {
        "execution": {
          "iopub.execute_input": "2024-01-20T18:39:59.462625Z",
          "iopub.status.busy": "2024-01-20T18:39:59.461950Z",
          "iopub.status.idle": "2024-01-20T18:39:59.955719Z",
          "shell.execute_reply": "2024-01-20T18:39:59.954660Z"
        },
        "papermill": {
          "duration": 0.516353,
          "end_time": "2024-01-20T18:39:59.958211",
          "exception": false,
          "start_time": "2024-01-20T18:39:59.441858",
          "status": "completed"
        },
        "tags": [],
        "colab": {
          "base_uri": "https://localhost:8080/",
          "height": 989
        },
        "id": "39f29d31",
        "outputId": "b48ed3d3-88dc-4a41-a092-748cc5bc81d0"
      },
      "outputs": [
        {
          "output_type": "stream",
          "name": "stdout",
          "text": [
            "Confusion Matrix, Without Normalization\n",
            "[[ 0 30]\n",
            " [ 0 30]]\n",
            "              precision    recall  f1-score   support\n",
            "\n",
            "        nike       0.00      0.00      0.00        30\n",
            "      adidas       0.50      1.00      0.67        30\n",
            "\n",
            "    accuracy                           0.50        60\n",
            "   macro avg       0.25      0.50      0.33        60\n",
            "weighted avg       0.25      0.50      0.33        60\n",
            "\n"
          ]
        },
        {
          "output_type": "stream",
          "name": "stderr",
          "text": [
            "/usr/local/lib/python3.10/dist-packages/sklearn/metrics/_classification.py:1344: UndefinedMetricWarning: Precision and F-score are ill-defined and being set to 0.0 in labels with no predicted samples. Use `zero_division` parameter to control this behavior.\n",
            "  _warn_prf(average, modifier, msg_start, len(result))\n",
            "/usr/local/lib/python3.10/dist-packages/sklearn/metrics/_classification.py:1344: UndefinedMetricWarning: Precision and F-score are ill-defined and being set to 0.0 in labels with no predicted samples. Use `zero_division` parameter to control this behavior.\n",
            "  _warn_prf(average, modifier, msg_start, len(result))\n",
            "/usr/local/lib/python3.10/dist-packages/sklearn/metrics/_classification.py:1344: UndefinedMetricWarning: Precision and F-score are ill-defined and being set to 0.0 in labels with no predicted samples. Use `zero_division` parameter to control this behavior.\n",
            "  _warn_prf(average, modifier, msg_start, len(result))\n"
          ]
        },
        {
          "output_type": "display_data",
          "data": {
            "text/plain": [
              "<Figure size 1000x1000 with 2 Axes>"
            ],
            "image/png": "[encoded data removed]"
          },
          "metadata": {}
        }
      ],
      "source": [
        "from sklearn.metrics import confusion_matrix, classification_report\n",
        "import matplotlib.pyplot as plt\n",
        "\n",
        "# Confusion matrix\n",
        "cm = confusion_matrix(test_gen.classes, y_pred)\n",
        "plot_confusion_matrix(cm= cm, classes= target_names, title = 'Confusion Matrix')\n",
        "# Classification report\n",
        "print(classification_report(test_gen.classes, y_pred, target_names= target_names))"
      ]
    },
    {
      "cell_type": "code",
      "execution_count": null,
      "id": "ca0706cb",
      "metadata": {
        "_kg_hide-output": true,
        "execution": {
          "iopub.execute_input": "2024-01-20T18:39:59.999537Z",
          "iopub.status.busy": "2024-01-20T18:39:59.999250Z",
          "iopub.status.idle": "2024-01-20T18:42:42.244332Z",
          "shell.execute_reply": "2024-01-20T18:42:42.243340Z"
        },
        "papermill": {
          "duration": 162.268042,
          "end_time": "2024-01-20T18:42:42.246450",
          "exception": false,
          "start_time": "2024-01-20T18:39:59.978408",
          "status": "completed"
        },
        "scrolled": true,
        "tags": [],
        "colab": {
          "base_uri": "https://localhost:8080/"
        },
        "id": "ca0706cb",
        "outputId": "a34dafd7-3912-4604-9602-8d7137cbe5a8"
      },
      "outputs": [
        {
          "output_type": "stream",
          "name": "stdout",
          "text": [
            "Downloading data from https://storage.googleapis.com/tensorflow/keras-applications/resnet/resnet50_weights_tf_dim_ordering_tf_kernels_notop.h5\n",
            "94765736/94765736 [==============================] - 0s 0us/step\n",
            "Epoch 1/20\n"
          ]
        },
        {
          "output_type": "stream",
          "name": "stderr",
          "text": [
            "/usr/local/lib/python3.10/dist-packages/PIL/Image.py:996: UserWarning: Palette images with Transparency expressed in bytes should be converted to RGBA images\n",
            "  warnings.warn(\n"
          ]
        },
        {
          "output_type": "stream",
          "name": "stdout",
          "text": [
            "5/5 [==============================] - ETA: 0s - loss: 0.8303 - accuracy: 0.5413\n",
            "Epoch 1: val_accuracy improved from -inf to 0.49091, saving model to best_model_resnet.h5\n"
          ]
        },
        {
          "output_type": "stream",
          "name": "stderr",
          "text": [
            "/usr/local/lib/python3.10/dist-packages/keras/src/engine/training.py:3103: UserWarning: You are saving your model as an HDF5 file via `model.save()`. This file format is considered legacy. We recommend using instead the native Keras format, e.g. `model.save('my_model.keras')`.\n",
            "  saving_api.save_model(\n"
          ]
        },
        {
          "output_type": "stream",
          "name": "stdout",
          "text": [
            "\b\b\b\b\b\b\b\b\b\b\b\b\b\b\b\b\b\b\b\b\b\b\b\b\b\b\b\b\b\b\b\b\b\b\b\b\b\b\b\b\b\b\b\b\b\b\b\b\b\b\b\b\b\b\b\b\b\b\b\b\b\b\b\b\b\b\b\b\b\b\b\b\b\b\b\b\b\b\b\b\r5/5 [==============================] - 24s 3s/step - loss: 0.8303 - accuracy: 0.5413 - val_loss: 0.7705 - val_accuracy: 0.4909\n",
            "Epoch 2/20\n",
            "5/5 [==============================] - ETA: 0s - loss: 0.7209 - accuracy: 0.6478\n",
            "Epoch 2: val_accuracy did not improve from 0.49091\n",
            "5/5 [==============================] - 10s 2s/step - loss: 0.7209 - accuracy: 0.6478 - val_loss: 1.0030 - val_accuracy: 0.4909\n",
            "Epoch 3/20\n",
            "5/5 [==============================] - ETA: 0s - loss: 0.6350 - accuracy: 0.6739\n",
            "Epoch 3: val_accuracy did not improve from 0.49091\n",
            "5/5 [==============================] - 10s 2s/step - loss: 0.6350 - accuracy: 0.6739 - val_loss: 1.0185 - val_accuracy: 0.4909\n",
            "Epoch 4/20\n",
            "5/5 [==============================] - ETA: 0s - loss: 0.6042 - accuracy: 0.6826\n",
            "Epoch 4: val_accuracy did not improve from 0.49091\n",
            "5/5 [==============================] - 8s 2s/step - loss: 0.6042 - accuracy: 0.6826 - val_loss: 0.8925 - val_accuracy: 0.4727\n",
            "Epoch 5/20\n",
            "5/5 [==============================] - ETA: 0s - loss: 0.6370 - accuracy: 0.6652\n",
            "Epoch 5: val_accuracy improved from 0.49091 to 0.50909, saving model to best_model_resnet.h5\n",
            "5/5 [==============================] - 21s 5s/step - loss: 0.6370 - accuracy: 0.6652 - val_loss: 0.9065 - val_accuracy: 0.5091\n",
            "Epoch 6/20\n",
            "5/5 [==============================] - ETA: 0s - loss: 0.5671 - accuracy: 0.7217\n",
            "Epoch 6: val_accuracy did not improve from 0.50909\n",
            "5/5 [==============================] - 9s 2s/step - loss: 0.5671 - accuracy: 0.7217 - val_loss: 1.0731 - val_accuracy: 0.4909\n",
            "Epoch 7/20\n",
            "5/5 [==============================] - ETA: 0s - loss: 0.4971 - accuracy: 0.7391\n",
            "Epoch 7: val_accuracy did not improve from 0.50909\n",
            "5/5 [==============================] - 9s 2s/step - loss: 0.4971 - accuracy: 0.7391 - val_loss: 1.0687 - val_accuracy: 0.4909\n",
            "Epoch 8/20\n",
            "5/5 [==============================] - ETA: 0s - loss: 0.6015 - accuracy: 0.6804\n",
            "Epoch 8: val_accuracy did not improve from 0.50909\n",
            "5/5 [==============================] - 10s 2s/step - loss: 0.6015 - accuracy: 0.6804 - val_loss: 0.9348 - val_accuracy: 0.4909\n",
            "Epoch 9/20\n",
            "5/5 [==============================] - ETA: 0s - loss: 0.5132 - accuracy: 0.7413\n",
            "Epoch 9: val_accuracy did not improve from 0.50909\n",
            "5/5 [==============================] - 9s 2s/step - loss: 0.5132 - accuracy: 0.7413 - val_loss: 0.7973 - val_accuracy: 0.5091\n",
            "Epoch 10/20\n",
            "5/5 [==============================] - ETA: 0s - loss: 0.5390 - accuracy: 0.7348\n",
            "Epoch 10: val_accuracy did not improve from 0.50909\n",
            "5/5 [==============================] - 9s 2s/step - loss: 0.5390 - accuracy: 0.7348 - val_loss: 0.7725 - val_accuracy: 0.4909\n",
            "Epoch 11/20\n",
            "5/5 [==============================] - ETA: 0s - loss: 0.5268 - accuracy: 0.7413\n",
            "Epoch 11: val_accuracy improved from 0.50909 to 0.52727, saving model to best_model_resnet.h5\n",
            "5/5 [==============================] - 10s 2s/step - loss: 0.5268 - accuracy: 0.7413 - val_loss: 0.8020 - val_accuracy: 0.5273\n",
            "Epoch 12/20\n",
            "5/5 [==============================] - ETA: 0s - loss: 0.4925 - accuracy: 0.7739\n",
            "Epoch 12: val_accuracy did not improve from 0.52727\n",
            "5/5 [==============================] - 10s 2s/step - loss: 0.4925 - accuracy: 0.7739 - val_loss: 0.7429 - val_accuracy: 0.5273\n",
            "Epoch 13/20\n",
            "5/5 [==============================] - ETA: 0s - loss: 0.5321 - accuracy: 0.7739\n",
            "Epoch 13: val_accuracy did not improve from 0.52727\n",
            "5/5 [==============================] - 10s 2s/step - loss: 0.5321 - accuracy: 0.7739 - val_loss: 0.7239 - val_accuracy: 0.5091\n",
            "Epoch 14/20\n",
            "5/5 [==============================] - ETA: 0s - loss: 0.4839 - accuracy: 0.7587\n",
            "Epoch 14: val_accuracy improved from 0.52727 to 0.56364, saving model to best_model_resnet.h5\n",
            "5/5 [==============================] - 9s 2s/step - loss: 0.4839 - accuracy: 0.7587 - val_loss: 0.6414 - val_accuracy: 0.5636\n",
            "Epoch 15/20\n",
            "5/5 [==============================] - ETA: 0s - loss: 0.4827 - accuracy: 0.7630\n",
            "Epoch 15: val_accuracy improved from 0.56364 to 0.61818, saving model to best_model_resnet.h5\n",
            "5/5 [==============================] - 11s 2s/step - loss: 0.4827 - accuracy: 0.7630 - val_loss: 0.6137 - val_accuracy: 0.6182\n",
            "Epoch 16/20\n",
            "5/5 [==============================] - ETA: 0s - loss: 0.4195 - accuracy: 0.8022\n",
            "Epoch 16: val_accuracy improved from 0.61818 to 0.65455, saving model to best_model_resnet.h5\n",
            "5/5 [==============================] - 11s 2s/step - loss: 0.4195 - accuracy: 0.8022 - val_loss: 0.6477 - val_accuracy: 0.6545\n",
            "Epoch 17/20\n",
            "5/5 [==============================] - ETA: 0s - loss: 0.4553 - accuracy: 0.7935\n",
            "Epoch 17: val_accuracy did not improve from 0.65455\n",
            "5/5 [==============================] - 9s 2s/step - loss: 0.4553 - accuracy: 0.7935 - val_loss: 0.6234 - val_accuracy: 0.6545\n",
            "Epoch 18/20\n",
            "5/5 [==============================] - ETA: 0s - loss: 0.4998 - accuracy: 0.7543\n",
            "Epoch 18: val_accuracy did not improve from 0.65455\n",
            "5/5 [==============================] - 9s 2s/step - loss: 0.4998 - accuracy: 0.7543 - val_loss: 0.6248 - val_accuracy: 0.6182\n",
            "Epoch 19/20\n",
            "5/5 [==============================] - ETA: 0s - loss: 0.4040 - accuracy: 0.7804\n",
            "Epoch 19: val_accuracy did not improve from 0.65455\n",
            "5/5 [==============================] - 10s 2s/step - loss: 0.4040 - accuracy: 0.7804 - val_loss: 0.5806 - val_accuracy: 0.6364\n",
            "Epoch 20/20\n",
            "5/5 [==============================] - ETA: 0s - loss: 0.4372 - accuracy: 0.8000\n",
            "Epoch 20: val_accuracy did not improve from 0.65455\n",
            "5/5 [==============================] - 10s 2s/step - loss: 0.4372 - accuracy: 0.8000 - val_loss: 0.5394 - val_accuracy: 0.6545\n"
          ]
        }
      ],
      "source": [
        "import tensorflow as tf\n",
        "from tensorflow.keras.models import Sequential\n",
        "from tensorflow.keras.layers import Dense, Dropout, BatchNormalization\n",
        "from tensorflow.keras.callbacks import ModelCheckpoint\n",
        "\n",
        "# Assuming train_gen and valid_gen are your image data generators\n",
        "\n",
        "img_size = (224, 224)\n",
        "channels = 3\n",
        "img_shape = (img_size[0], img_size[1], channels)\n",
        "class_count = len(list(train_gen.class_indices.keys()))\n",
        "\n",
        "# Create pre-trained model\n",
        "base_model = tf.keras.applications.ResNet50(include_top=False, weights=\"imagenet\", input_shape=img_shape, pooling='max')\n",
        "for layer in base_model.layers:\n",
        "    layer.trainable = False\n",
        "model = Sequential([\n",
        "    base_model,\n",
        "    BatchNormalization(),\n",
        "    Dense(256, activation='relu'),\n",
        "    Dropout(0.3),\n",
        "     Dense(64, activation='relu'),\n",
        "    Dropout(0.3),\n",
        "    Dense(class_count, activation='softmax')\n",
        "])\n",
        "\n",
        "optimizer = tf.keras.optimizers.Adam()\n",
        "model.compile(optimizer=optimizer, loss='categorical_crossentropy', metrics=['accuracy'])\n",
        "\n",
        "# Define filepath to save the best model\n",
        "filepath = 'best_model_resnet.h5'\n",
        "\n",
        "# Create ModelCheckpoint callback to save the best model based on validation accuracy\n",
        "checkpoint = ModelCheckpoint(filepath, monitor='val_accuracy', verbose=1, save_best_only=True, mode='max')\n",
        "# Train the model with the added callback\n",
        "history = model.fit(\n",
        "    x=train_gen,\n",
        "    epochs=20,\n",
        "    verbose=1,\n",
        "    validation_data=valid_gen,\n",
        "    callbacks=[checkpoint]\n",
        ")"
      ]
    },
    {
      "cell_type": "code",
      "execution_count": null,
      "id": "ef4e889d",
      "metadata": {
        "execution": {
          "iopub.execute_input": "2024-01-20T18:42:42.317878Z",
          "iopub.status.busy": "2024-01-20T18:42:42.317518Z",
          "iopub.status.idle": "2024-01-20T18:42:55.495749Z",
          "shell.execute_reply": "2024-01-20T18:42:55.494478Z"
        },
        "papermill": {
          "duration": 13.215101,
          "end_time": "2024-01-20T18:42:55.497738",
          "exception": false,
          "start_time": "2024-01-20T18:42:42.282637",
          "status": "completed"
        },
        "tags": [],
        "colab": {
          "base_uri": "https://localhost:8080/"
        },
        "id": "ef4e889d",
        "outputId": "941d6071-7c79-404e-e22a-1f2ffe9530d9"
      },
      "outputs": [
        {
          "output_type": "stream",
          "name": "stdout",
          "text": [
            "5/5 [==============================] - 10s 2s/step - loss: 0.5563 - accuracy: 0.7109\n",
            "1/1 [==============================] - 1s 1s/step - loss: 0.6183 - accuracy: 0.6909\n",
            "1/1 [==============================] - 1s 532ms/step - loss: 0.6338 - accuracy: 0.6667\n",
            "Train Loss:  0.5563399195671082\n",
            "Train Accuracy:  0.710869550704956\n",
            "--------------------\n",
            "Validation Loss:  0.6182824969291687\n",
            "Validation Accuracy:  0.6909090876579285\n",
            "--------------------\n",
            "Test Loss:  0.6338029503822327\n",
            "Test Accuracy:  0.6666666865348816\n"
          ]
        }
      ],
      "source": [
        "import tensorflow as tf\n",
        "from tensorflow.keras.models import load_model, Model\n",
        "from tensorflow.keras.layers import Input, Average\n",
        "\n",
        "\n",
        "\n",
        "model= load_model('best_model_resnet.h5')\n",
        "\n",
        "\n",
        "train_score = model.evaluate(train_gen, steps= len(train_gen), verbose= 1)\n",
        "valid_score = model.evaluate(valid_gen, steps= len(valid_gen), verbose= 1)\n",
        "test_score = model.evaluate(test_gen, steps= len(test_gen), verbose= 1)\n",
        "\n",
        "print(\"Train Loss: \", train_score[0])\n",
        "print(\"Train Accuracy: \", train_score[1])\n",
        "print('-' * 20)\n",
        "print(\"Validation Loss: \", valid_score[0])\n",
        "print(\"Validation Accuracy: \", valid_score[1])\n",
        "print('-' * 20)\n",
        "print(\"Test Loss: \", test_score[0])\n",
        "print(\"Test Accuracy: \", test_score[1])"
      ]
    },
    {
      "cell_type": "code",
      "execution_count": null,
      "id": "50890343",
      "metadata": {
        "execution": {
          "iopub.execute_input": "2024-01-20T18:42:55.568921Z",
          "iopub.status.busy": "2024-01-20T18:42:55.568640Z",
          "iopub.status.idle": "2024-01-20T18:42:59.440582Z",
          "shell.execute_reply": "2024-01-20T18:42:59.439422Z"
        },
        "papermill": {
          "duration": 3.909692,
          "end_time": "2024-01-20T18:42:59.442858",
          "exception": false,
          "start_time": "2024-01-20T18:42:55.533166",
          "status": "completed"
        },
        "tags": [],
        "colab": {
          "base_uri": "https://localhost:8080/"
        },
        "id": "50890343",
        "outputId": "2bddd497-96d9-4cf4-a5d1-ba32aa5f6862"
      },
      "outputs": [
        {
          "output_type": "stream",
          "name": "stderr",
          "text": [
            "<ipython-input-14-edc74298ee48>:2: UserWarning: `Model.predict_generator` is deprecated and will be removed in a future version. Please use `Model.predict`, which supports generators.\n",
            "  preds = model.predict_generator(test_gen)\n"
          ]
        },
        {
          "output_type": "stream",
          "name": "stdout",
          "text": [
            "[1 0 0 0 0 0 0 0 0 1 0 1 0 0 1 0 1 0 0 0 1 1 0 0 0 1 1 1 0 1 1 0 1 1 1 1 1\n",
            " 1 1 1 1 0 1 0 1 1 0 0 1 0 0 0 1 0 1 1 1 1 1 1]\n"
          ]
        }
      ],
      "source": [
        "model = load_model('best_model_resnet.h5')\n",
        "preds = model.predict_generator(test_gen)\n",
        "y_pred = np.argmax(preds, axis=1)\n",
        "print(y_pred)"
      ]
    },
    {
      "cell_type": "code",
      "execution_count": null,
      "id": "ab9127df",
      "metadata": {
        "execution": {
          "iopub.execute_input": "2024-01-20T18:42:59.519785Z",
          "iopub.status.busy": "2024-01-20T18:42:59.519426Z",
          "iopub.status.idle": "2024-01-20T18:42:59.991250Z",
          "shell.execute_reply": "2024-01-20T18:42:59.990397Z"
        },
        "papermill": {
          "duration": 0.511496,
          "end_time": "2024-01-20T18:42:59.993429",
          "exception": false,
          "start_time": "2024-01-20T18:42:59.481933",
          "status": "completed"
        },
        "tags": [],
        "colab": {
          "base_uri": "https://localhost:8080/",
          "height": 881
        },
        "id": "ab9127df",
        "outputId": "73c0811c-41b6-4c22-8d54-f81a6cb4da3c"
      },
      "outputs": [
        {
          "output_type": "stream",
          "name": "stdout",
          "text": [
            "Confusion Matrix, Without Normalization\n",
            "[[19 11]\n",
            " [ 9 21]]\n",
            "              precision    recall  f1-score   support\n",
            "\n",
            "        nike       0.68      0.63      0.66        30\n",
            "      adidas       0.66      0.70      0.68        30\n",
            "\n",
            "    accuracy                           0.67        60\n",
            "   macro avg       0.67      0.67      0.67        60\n",
            "weighted avg       0.67      0.67      0.67        60\n",
            "\n"
          ]
        },
        {
          "output_type": "display_data",
          "data": {
            "text/plain": [
              "<Figure size 1000x1000 with 2 Axes>"
            ],
            "image/png": "[encoded data removed]"
          },
          "metadata": {}
        }
      ],
      "source": [
        "from sklearn.metrics import confusion_matrix, classification_report\n",
        "import matplotlib.pyplot as plt\n",
        "\n",
        "# Confusion matrix\n",
        "cm = confusion_matrix(test_gen.classes, y_pred)\n",
        "plot_confusion_matrix(cm= cm, classes= target_names, title = 'Confusion Matrix')\n",
        "# Classification report\n",
        "print(classification_report(test_gen.classes, y_pred, target_names= target_names))"
      ]
    },
    {
      "cell_type": "code",
      "execution_count": null,
      "id": "edc7220f",
      "metadata": {
        "_kg_hide-output": true,
        "execution": {
          "iopub.execute_input": "2024-01-20T18:43:00.066242Z",
          "iopub.status.busy": "2024-01-20T18:43:00.065611Z",
          "iopub.status.idle": "2024-01-20T18:45:57.223032Z",
          "shell.execute_reply": "2024-01-20T18:45:57.222124Z"
        },
        "papermill": {
          "duration": 177.196261,
          "end_time": "2024-01-20T18:45:57.225108",
          "exception": false,
          "start_time": "2024-01-20T18:43:00.028847",
          "status": "completed"
        },
        "scrolled": true,
        "tags": [],
        "colab": {
          "base_uri": "https://localhost:8080/"
        },
        "id": "edc7220f",
        "outputId": "d55f1882-dea1-47e7-ef10-8794fb115e0d"
      },
      "outputs": [
        {
          "output_type": "stream",
          "name": "stdout",
          "text": [
            "Downloading data from https://storage.googleapis.com/tensorflow/keras-applications/vgg16/vgg16_weights_tf_dim_ordering_tf_kernels_notop.h5\n",
            "58889256/58889256 [==============================] - 0s 0us/step\n"
          ]
        },
        {
          "output_type": "stream",
          "name": "stderr",
          "text": [
            "/usr/local/lib/python3.10/dist-packages/PIL/Image.py:996: UserWarning: Palette images with Transparency expressed in bytes should be converted to RGBA images\n",
            "  warnings.warn(\n"
          ]
        },
        {
          "output_type": "stream",
          "name": "stdout",
          "text": [
            "Epoch 1/20\n",
            "5/5 [==============================] - ETA: 0s - loss: 0.8486 - accuracy: 0.5674\n",
            "Epoch 1: val_accuracy improved from -inf to 0.54545, saving model to best_model_vgg.h5\n",
            "5/5 [==============================] - 52s 9s/step - loss: 0.8486 - accuracy: 0.5674 - val_loss: 0.7087 - val_accuracy: 0.5455\n",
            "Epoch 2/20\n"
          ]
        },
        {
          "output_type": "stream",
          "name": "stderr",
          "text": [
            "/usr/local/lib/python3.10/dist-packages/keras/src/engine/training.py:3103: UserWarning: You are saving your model as an HDF5 file via `model.save()`. This file format is considered legacy. We recommend using instead the native Keras format, e.g. `model.save('my_model.keras')`.\n",
            "  saving_api.save_model(\n"
          ]
        },
        {
          "output_type": "stream",
          "name": "stdout",
          "text": [
            "5/5 [==============================] - ETA: 0s - loss: 0.6084 - accuracy: 0.7152\n",
            "Epoch 2: val_accuracy improved from 0.54545 to 0.65455, saving model to best_model_vgg.h5\n",
            "5/5 [==============================] - 10s 2s/step - loss: 0.6084 - accuracy: 0.7152 - val_loss: 0.5787 - val_accuracy: 0.6545\n",
            "Epoch 3/20\n",
            "5/5 [==============================] - ETA: 0s - loss: 0.4963 - accuracy: 0.7717\n",
            "Epoch 3: val_accuracy did not improve from 0.65455\n",
            "5/5 [==============================] - 10s 2s/step - loss: 0.4963 - accuracy: 0.7717 - val_loss: 0.5959 - val_accuracy: 0.6364\n",
            "Epoch 4/20\n",
            "5/5 [==============================] - ETA: 0s - loss: 0.4581 - accuracy: 0.7826\n",
            "Epoch 4: val_accuracy improved from 0.65455 to 0.69091, saving model to best_model_vgg.h5\n",
            "5/5 [==============================] - 9s 2s/step - loss: 0.4581 - accuracy: 0.7826 - val_loss: 0.5717 - val_accuracy: 0.6909\n",
            "Epoch 5/20\n",
            "5/5 [==============================] - ETA: 0s - loss: 0.4214 - accuracy: 0.8065\n",
            "Epoch 5: val_accuracy did not improve from 0.69091\n",
            "5/5 [==============================] - 10s 2s/step - loss: 0.4214 - accuracy: 0.8065 - val_loss: 0.6279 - val_accuracy: 0.6909\n",
            "Epoch 6/20\n",
            "5/5 [==============================] - ETA: 0s - loss: 0.3497 - accuracy: 0.8587\n",
            "Epoch 6: val_accuracy improved from 0.69091 to 0.72727, saving model to best_model_vgg.h5\n",
            "5/5 [==============================] - 10s 2s/step - loss: 0.3497 - accuracy: 0.8587 - val_loss: 0.5567 - val_accuracy: 0.7273\n",
            "Epoch 7/20\n",
            "5/5 [==============================] - ETA: 0s - loss: 0.3160 - accuracy: 0.8674\n",
            "Epoch 7: val_accuracy did not improve from 0.72727\n",
            "5/5 [==============================] - 10s 2s/step - loss: 0.3160 - accuracy: 0.8674 - val_loss: 0.5724 - val_accuracy: 0.6727\n",
            "Epoch 8/20\n",
            "5/5 [==============================] - ETA: 0s - loss: 0.3698 - accuracy: 0.8348\n",
            "Epoch 8: val_accuracy did not improve from 0.72727\n",
            "5/5 [==============================] - 9s 2s/step - loss: 0.3698 - accuracy: 0.8348 - val_loss: 0.4658 - val_accuracy: 0.7273\n",
            "Epoch 9/20\n",
            "5/5 [==============================] - ETA: 0s - loss: 0.3060 - accuracy: 0.8717\n",
            "Epoch 9: val_accuracy improved from 0.72727 to 0.78182, saving model to best_model_vgg.h5\n",
            "5/5 [==============================] - 10s 2s/step - loss: 0.3060 - accuracy: 0.8717 - val_loss: 0.4983 - val_accuracy: 0.7818\n",
            "Epoch 10/20\n",
            "5/5 [==============================] - ETA: 0s - loss: 0.3014 - accuracy: 0.8587\n",
            "Epoch 10: val_accuracy did not improve from 0.78182\n",
            "5/5 [==============================] - 10s 2s/step - loss: 0.3014 - accuracy: 0.8587 - val_loss: 0.5576 - val_accuracy: 0.7091\n",
            "Epoch 11/20\n",
            "5/5 [==============================] - ETA: 0s - loss: 0.2849 - accuracy: 0.8696\n",
            "Epoch 11: val_accuracy did not improve from 0.78182\n",
            "5/5 [==============================] - 9s 2s/step - loss: 0.2849 - accuracy: 0.8696 - val_loss: 0.4447 - val_accuracy: 0.7636\n",
            "Epoch 12/20\n",
            "5/5 [==============================] - ETA: 0s - loss: 0.2345 - accuracy: 0.9109\n",
            "Epoch 12: val_accuracy improved from 0.78182 to 0.81818, saving model to best_model_vgg.h5\n",
            "5/5 [==============================] - 9s 2s/step - loss: 0.2345 - accuracy: 0.9109 - val_loss: 0.3972 - val_accuracy: 0.8182\n",
            "Epoch 13/20\n",
            "5/5 [==============================] - ETA: 0s - loss: 0.2520 - accuracy: 0.9022\n",
            "Epoch 13: val_accuracy did not improve from 0.81818\n",
            "5/5 [==============================] - 10s 2s/step - loss: 0.2520 - accuracy: 0.9022 - val_loss: 0.4257 - val_accuracy: 0.7818\n",
            "Epoch 14/20\n",
            "5/5 [==============================] - ETA: 0s - loss: 0.2508 - accuracy: 0.8891\n",
            "Epoch 14: val_accuracy did not improve from 0.81818\n",
            "5/5 [==============================] - 10s 2s/step - loss: 0.2508 - accuracy: 0.8891 - val_loss: 0.5403 - val_accuracy: 0.7091\n",
            "Epoch 15/20\n",
            "5/5 [==============================] - ETA: 0s - loss: 0.2153 - accuracy: 0.9196\n",
            "Epoch 15: val_accuracy did not improve from 0.81818\n",
            "5/5 [==============================] - 8s 2s/step - loss: 0.2153 - accuracy: 0.9196 - val_loss: 0.3903 - val_accuracy: 0.7818\n",
            "Epoch 16/20\n",
            "5/5 [==============================] - ETA: 0s - loss: 0.1893 - accuracy: 0.9065\n",
            "Epoch 16: val_accuracy did not improve from 0.81818\n",
            "5/5 [==============================] - 10s 2s/step - loss: 0.1893 - accuracy: 0.9065 - val_loss: 0.4869 - val_accuracy: 0.7091\n",
            "Epoch 17/20\n",
            "5/5 [==============================] - ETA: 0s - loss: 0.2110 - accuracy: 0.9261\n",
            "Epoch 17: val_accuracy did not improve from 0.81818\n",
            "5/5 [==============================] - 10s 2s/step - loss: 0.2110 - accuracy: 0.9261 - val_loss: 0.4703 - val_accuracy: 0.7636\n",
            "Epoch 18/20\n",
            "5/5 [==============================] - ETA: 0s - loss: 0.1966 - accuracy: 0.9196\n",
            "Epoch 18: val_accuracy did not improve from 0.81818\n",
            "5/5 [==============================] - 10s 2s/step - loss: 0.1966 - accuracy: 0.9196 - val_loss: 0.5224 - val_accuracy: 0.7273\n",
            "Epoch 19/20\n",
            "5/5 [==============================] - ETA: 0s - loss: 0.1745 - accuracy: 0.9326\n",
            "Epoch 19: val_accuracy did not improve from 0.81818\n",
            "5/5 [==============================] - 9s 2s/step - loss: 0.1745 - accuracy: 0.9326 - val_loss: 0.5983 - val_accuracy: 0.6727\n",
            "Epoch 20/20\n",
            "5/5 [==============================] - ETA: 0s - loss: 0.1779 - accuracy: 0.9261\n",
            "Epoch 20: val_accuracy did not improve from 0.81818\n",
            "5/5 [==============================] - 10s 2s/step - loss: 0.1779 - accuracy: 0.9261 - val_loss: 0.4122 - val_accuracy: 0.8000\n"
          ]
        }
      ],
      "source": [
        "import tensorflow as tf\n",
        "from tensorflow.keras.models import Sequential\n",
        "from tensorflow.keras.layers import Dense, Dropout, BatchNormalization\n",
        "from tensorflow.keras.callbacks import ModelCheckpoint\n",
        "\n",
        "# Assuming train_gen and valid_gen are your image data generators\n",
        "\n",
        "img_size = (224, 224)\n",
        "channels = 3\n",
        "img_shape = (img_size[0], img_size[1], channels)\n",
        "class_count = len(list(train_gen.class_indices.keys()))\n",
        "\n",
        "# Create pre-trained model\n",
        "base_model = tf.keras.applications.VGG16(include_top=False, weights=\"imagenet\", input_shape=img_shape, pooling='max')\n",
        "for layer in base_model.layers:\n",
        "    layer.trainable = False\n",
        "model = Sequential([\n",
        "    base_model,\n",
        "    BatchNormalization(),\n",
        "    Dense(256, activation='relu'),\n",
        "    Dropout(0.3),\n",
        "     Dense(64, activation='relu'),\n",
        "    Dropout(0.3),\n",
        "    Dense(class_count, activation='softmax')\n",
        "])\n",
        "\n",
        "optimizer = tf.keras.optimizers.Adam()\n",
        "model.compile(optimizer=optimizer, loss='categorical_crossentropy', metrics=['accuracy'])\n",
        "\n",
        "# Define filepath to save the best model\n",
        "filepath = 'best_model_vgg.h5'\n",
        "\n",
        "# Create ModelCheckpoint callback to save the best model based on validation accuracy\n",
        "checkpoint = ModelCheckpoint(filepath, monitor='val_accuracy', verbose=1, save_best_only=True, mode='max')\n",
        "# Train the model with the added callback\n",
        "history = model.fit(\n",
        "    x=train_gen,\n",
        "    epochs=20,\n",
        "    verbose=1,\n",
        "    validation_data=valid_gen,\n",
        "    callbacks=[checkpoint]\n",
        ")"
      ]
    },
    {
      "cell_type": "code",
      "execution_count": null,
      "id": "b7785c24",
      "metadata": {
        "execution": {
          "iopub.execute_input": "2024-01-20T18:45:57.324387Z",
          "iopub.status.busy": "2024-01-20T18:45:57.324039Z",
          "iopub.status.idle": "2024-01-20T18:46:07.991286Z",
          "shell.execute_reply": "2024-01-20T18:46:07.990393Z"
        },
        "papermill": {
          "duration": 10.718513,
          "end_time": "2024-01-20T18:46:07.993159",
          "exception": false,
          "start_time": "2024-01-20T18:45:57.274646",
          "status": "completed"
        },
        "tags": [],
        "colab": {
          "base_uri": "https://localhost:8080/"
        },
        "id": "b7785c24",
        "outputId": "19cbf29f-3768-44ee-a8fa-4ec14b063a1c"
      },
      "outputs": [
        {
          "output_type": "stream",
          "name": "stdout",
          "text": [
            "5/5 [==============================] - 9s 1s/step - loss: 0.3062 - accuracy: 0.8826\n",
            "1/1 [==============================] - 1s 1s/step - loss: 0.4809 - accuracy: 0.7818\n",
            "1/1 [==============================] - 1s 571ms/step - loss: 0.5093 - accuracy: 0.7667\n",
            "Train Loss:  0.30620554089546204\n",
            "Train Accuracy:  0.8826087117195129\n",
            "--------------------\n",
            "Validation Loss:  0.4808676242828369\n",
            "Validation Accuracy:  0.7818182110786438\n",
            "--------------------\n",
            "Test Loss:  0.5092918872833252\n",
            "Test Accuracy:  0.7666666507720947\n"
          ]
        }
      ],
      "source": [
        "import tensorflow as tf\n",
        "from tensorflow.keras.models import load_model, Model\n",
        "from tensorflow.keras.layers import Input, Average\n",
        "\n",
        "\n",
        "\n",
        "model= load_model('best_model_vgg.h5')\n",
        "\n",
        "\n",
        "train_score = model.evaluate(train_gen, steps= len(train_gen), verbose= 1)\n",
        "valid_score = model.evaluate(valid_gen, steps= len(valid_gen), verbose= 1)\n",
        "test_score = model.evaluate(test_gen, steps= len(test_gen), verbose= 1)\n",
        "\n",
        "print(\"Train Loss: \", train_score[0])\n",
        "print(\"Train Accuracy: \", train_score[1])\n",
        "print('-' * 20)\n",
        "print(\"Validation Loss: \", valid_score[0])\n",
        "print(\"Validation Accuracy: \", valid_score[1])\n",
        "print('-' * 20)\n",
        "print(\"Test Loss: \", test_score[0])\n",
        "print(\"Test Accuracy: \", test_score[1])"
      ]
    },
    {
      "cell_type": "code",
      "execution_count": null,
      "id": "62efdbab",
      "metadata": {
        "execution": {
          "iopub.execute_input": "2024-01-20T18:46:08.092954Z",
          "iopub.status.busy": "2024-01-20T18:46:08.092645Z",
          "iopub.status.idle": "2024-01-20T18:46:09.310489Z",
          "shell.execute_reply": "2024-01-20T18:46:09.309395Z"
        },
        "papermill": {
          "duration": 1.269863,
          "end_time": "2024-01-20T18:46:09.312725",
          "exception": false,
          "start_time": "2024-01-20T18:46:08.042862",
          "status": "completed"
        },
        "tags": [],
        "colab": {
          "base_uri": "https://localhost:8080/"
        },
        "id": "62efdbab",
        "outputId": "f35bd6e6-fb61-416d-c968-430b1db73a57"
      },
      "outputs": [
        {
          "output_type": "stream",
          "name": "stderr",
          "text": [
            "<ipython-input-18-192cfa0cd1d9>:2: UserWarning: `Model.predict_generator` is deprecated and will be removed in a future version. Please use `Model.predict`, which supports generators.\n",
            "  preds = model.predict_generator(test_gen)\n"
          ]
        },
        {
          "output_type": "stream",
          "name": "stdout",
          "text": [
            "[0 1 0 0 1 0 0 0 1 0 1 0 0 1 0 0 0 0 1 1 1 0 0 0 0 1 0 0 1 0 1 1 1 0 1 1 1\n",
            " 1 0 1 1 1 1 0 1 1 1 1 1 1 1 1 1 1 1 1 1 1 1 0]\n"
          ]
        }
      ],
      "source": [
        "model = load_model('best_model_vgg.h5')\n",
        "preds = model.predict_generator(test_gen)\n",
        "y_pred = np.argmax(preds, axis=1)\n",
        "print(y_pred)"
      ]
    },
    {
      "cell_type": "code",
      "execution_count": null,
      "id": "4cc51dae",
      "metadata": {
        "execution": {
          "iopub.execute_input": "2024-01-20T18:46:09.417532Z",
          "iopub.status.busy": "2024-01-20T18:46:09.416998Z",
          "iopub.status.idle": "2024-01-20T18:46:09.891870Z",
          "shell.execute_reply": "2024-01-20T18:46:09.890917Z"
        },
        "papermill": {
          "duration": 0.527989,
          "end_time": "2024-01-20T18:46:09.894082",
          "exception": false,
          "start_time": "2024-01-20T18:46:09.366093",
          "status": "completed"
        },
        "tags": [],
        "colab": {
          "base_uri": "https://localhost:8080/",
          "height": 872
        },
        "id": "4cc51dae",
        "outputId": "e6e5dbdd-f8a0-4345-a695-8a3dcab734cd"
      },
      "outputs": [
        {
          "output_type": "stream",
          "name": "stdout",
          "text": [
            "Confusion Matrix, Without Normalization\n",
            "[[20 10]\n",
            " [ 4 26]]\n",
            "              precision    recall  f1-score   support\n",
            "\n",
            "        nike       0.83      0.67      0.74        30\n",
            "      adidas       0.72      0.87      0.79        30\n",
            "\n",
            "    accuracy                           0.77        60\n",
            "   macro avg       0.78      0.77      0.76        60\n",
            "weighted avg       0.78      0.77      0.76        60\n",
            "\n"
          ]
        },
        {
          "output_type": "display_data",
          "data": {
            "text/plain": [
              "<Figure size 1000x1000 with 2 Axes>"
            ],
            "image/png": "[encoded data removed]"
          },
          "metadata": {}
        }
      ],
      "source": [
        "from sklearn.metrics import confusion_matrix, classification_report\n",
        "import matplotlib.pyplot as plt\n",
        "\n",
        "# Confusion matrix\n",
        "cm = confusion_matrix(test_gen.classes, y_pred)\n",
        "plot_confusion_matrix(cm= cm, classes= target_names, title = 'Confusion Matrix')\n",
        "# Classification report\n",
        "print(classification_report(test_gen.classes, y_pred, target_names= target_names))"
      ]
    }
  ],
  "metadata": {
    "kaggle": {
      "accelerator": "nvidiaTeslaT4",
      "dataSources": [
        {
          "datasetId": 2361804,
          "sourceId": 3980041,
          "sourceType": "datasetVersion"
        }
      ],
      "dockerImageVersionId": 30636,
      "isGpuEnabled": true,
      "isInternetEnabled": true,
      "language": "python",
      "sourceType": "notebook"
    },
    "kernelspec": {
      "display_name": "Python 3",
      "name": "python3"
    },
    "language_info": {
      "codemirror_mode": {
        "name": "ipython",
        "version": 3
      },
      "file_extension": ".py",
      "mimetype": "text/x-python",
      "name": "python",
      "nbconvert_exporter": "python",
      "pygments_lexer": "ipython3",
      "version": "3.10.12"
    },
    "papermill": {
      "default_parameters": {},
      "duration": 592.9947,
      "end_time": "2024-01-20T18:46:13.072719",
      "environment_variables": {},
      "exception": null,
      "input_path": "__notebook__.ipynb",
      "output_path": "__notebook__.ipynb",
      "parameters": {},
      "start_time": "2024-01-20T18:36:20.078019",
      "version": "2.4.0"
    },
    "colab": {
      "provenance": [],
      "gpuType": "T4"
    },
    "accelerator": "GPU"
  },
  "nbformat": 4,
  "nbformat_minor": 5
}