{
  "cells": [
    {
      "cell_type": "code",
      "execution_count": null,
      "id": "492d9d2f",
      "metadata": {
        "_cell_guid": "b1076dfc-b9ad-4769-8c92-a6c4dae69d19",
        "_kg_hide-input": false,
        "_kg_hide-output": true,
        "_uuid": "8f2839f25d086af736a60e9eeb907d3b93b6e0e5",
        "execution": {
          "iopub.execute_input": "2024-01-20T18:36:23.749075Z",
          "iopub.status.busy": "2024-01-20T18:36:23.748204Z",
          "iopub.status.idle": "2024-01-20T18:36:24.545383Z",
          "shell.execute_reply": "2024-01-20T18:36:24.544422Z"
        },
        "papermill": {
          "duration": 0.807119,
          "end_time": "2024-01-20T18:36:24.547822",
          "exception": false,
          "start_time": "2024-01-20T18:36:23.740703",
          "status": "completed"
        },
        "scrolled": true,
        "tags": [],
        "id": "492d9d2f"
      },
      "outputs": [],
      "source": [
        "# This Python 3 environment comes with many helpful analytics libraries installed\n",
        "# It is defined by the kaggle/python Docker image: https://github.com/kaggle/docker-python\n",
        "# For example, here's several helpful packages to load\n",
        "\n",
        "import numpy as np # linear algebra\n",
        "import pandas as pd # data processing, CSV file I/O (e.g. pd.read_csv)\n",
        "# You can write up to 20GB to the current directory (/kaggle/working/) that gets preserved as output when you create a version using \"Save & Run All\"\n",
        "# You can also write temporary files to /kaggle/temp/, but they won't be saved outside of the current session"
      ]
    },
    {
      "cell_type": "code",
      "execution_count": null,
      "id": "92029576",
      "metadata": {
        "execution": {
          "iopub.execute_input": "2024-01-20T18:36:24.559780Z",
          "iopub.status.busy": "2024-01-20T18:36:24.559345Z",
          "iopub.status.idle": "2024-01-20T18:36:38.050928Z",
          "shell.execute_reply": "2024-01-20T18:36:38.050067Z"
        },
        "papermill": {
          "duration": 13.499905,
          "end_time": "2024-01-20T18:36:38.053262",
          "exception": false,
          "start_time": "2024-01-20T18:36:24.553357",
          "status": "completed"
        },
        "tags": [],
        "id": "92029576"
      },
      "outputs": [],
      "source": [
        "import os\n",
        "import tensorflow as tf\n",
        "from tensorflow import keras\n",
        "from tensorflow.keras.optimizers import Adam\n",
        "from sklearn.model_selection import train_test_split\n",
        "from tensorflow.keras.metrics import categorical_crossentropy\n",
        "from tensorflow.keras.models import Model, load_model, Sequential\n",
        "from sklearn.metrics import confusion_matrix, classification_report\n",
        "from tensorflow.keras.preprocessing.image import ImageDataGenerator\n",
        "from tensorflow.keras.layers import Conv2D, MaxPooling2D, Flatten, Dense, Activation, Dropout, BatchNormalization"
      ]
    },
    {
      "cell_type": "code",
      "source": [
        "from google.colab import drive\n",
        "import os\n",
        "drive.mount('/content/drive/')"
      ],
      "metadata": {
        "colab": {
          "base_uri": "https://localhost:8080/"
        },
        "id": "YF9teXqLnzEQ",
        "outputId": "f4d84df7-e359-4bcb-bad0-ad70d39367d7"
      },
      "id": "YF9teXqLnzEQ",
      "execution_count": null,
      "outputs": [
        {
          "output_type": "stream",
          "name": "stdout",
          "text": [
            "Mounted at /content/drive/\n"
          ]
        }
      ]
    },
    {
      "cell_type": "code",
      "execution_count": null,
      "id": "da495ece",
      "metadata": {
        "execution": {
          "iopub.execute_input": "2024-01-20T18:36:38.065445Z",
          "iopub.status.busy": "2024-01-20T18:36:38.064498Z",
          "iopub.status.idle": "2024-01-20T18:36:38.074594Z",
          "shell.execute_reply": "2024-01-20T18:36:38.073729Z"
        },
        "papermill": {
          "duration": 0.017837,
          "end_time": "2024-01-20T18:36:38.076418",
          "exception": false,
          "start_time": "2024-01-20T18:36:38.058581",
          "status": "completed"
        },
        "tags": [],
        "colab": {
          "base_uri": "https://localhost:8080/"
        },
        "id": "da495ece",
        "outputId": "5a6035ac-cef0-4a31-bfb1-fd21ea9de39c"
      },
      "outputs": [
        {
          "output_type": "stream",
          "name": "stdout",
          "text": [
            "Number of classes: 2\n",
            "Target Names: ['nike', 'adidas']\n"
          ]
        }
      ],
      "source": [
        "import os\n",
        "\n",
        "# Specify the path to your dataset\n",
        "fpath = \"/content/drive/My Drive/archive/train\"\n",
        "dataset_path = fpath\n",
        "\n",
        "# Get a list of subdirectories (each subdirectory corresponds to a class)\n",
        "class_folders = [f.name for f in os.scandir(dataset_path) if f.is_dir()]\n",
        "\n",
        "# Get the number of classes\n",
        "num_classes = len(class_folders)\n",
        "\n",
        "# Print the number of classes\n",
        "print(\"Number of classes:\", num_classes)\n",
        "\n",
        "# Create a list of target_names based on the directory names\n",
        "target_names = class_folders\n",
        "print(\"Target Names:\", target_names)\n"
      ]
    },
    {
      "cell_type": "code",
      "execution_count": null,
      "id": "6d1cb27f",
      "metadata": {
        "execution": {
          "iopub.execute_input": "2024-01-20T18:36:38.087901Z",
          "iopub.status.busy": "2024-01-20T18:36:38.087590Z",
          "iopub.status.idle": "2024-01-20T18:36:38.091947Z",
          "shell.execute_reply": "2024-01-20T18:36:38.091078Z"
        },
        "papermill": {
          "duration": 0.01219,
          "end_time": "2024-01-20T18:36:38.094014",
          "exception": false,
          "start_time": "2024-01-20T18:36:38.081824",
          "status": "completed"
        },
        "tags": [],
        "id": "6d1cb27f"
      },
      "outputs": [],
      "source": [
        "img_size = 224\n",
        "batch_size =64\n",
        "fpath = \"/content/drive/My Drive/archive/train\"\n",
        "ffpath=\"/content/drive/My Drive/archive/test\"\n",
        "fffpath=\"/content/drive/My Drive/archive/validation\"\n"
      ]
    },
    {
      "cell_type": "code",
      "execution_count": null,
      "id": "ee308278",
      "metadata": {
        "execution": {
          "iopub.execute_input": "2024-01-20T18:36:38.105223Z",
          "iopub.status.busy": "2024-01-20T18:36:38.104962Z",
          "iopub.status.idle": "2024-01-20T18:36:38.171852Z",
          "shell.execute_reply": "2024-01-20T18:36:38.171106Z"
        },
        "papermill": {
          "duration": 0.074937,
          "end_time": "2024-01-20T18:36:38.173816",
          "exception": false,
          "start_time": "2024-01-20T18:36:38.098879",
          "status": "completed"
        },
        "tags": [],
        "colab": {
          "base_uri": "https://localhost:8080/"
        },
        "id": "ee308278",
        "outputId": "0fea2407-c60b-4933-892a-c629c9517a11"
      },
      "outputs": [
        {
          "output_type": "stream",
          "name": "stdout",
          "text": [
            "Found 460 images belonging to 2 classes.\n",
            "Found 55 images belonging to 2 classes.\n",
            "Found 60 images belonging to 2 classes.\n"
          ]
        }
      ],
      "source": [
        "from tensorflow.keras.preprocessing.image import ImageDataGenerator\n",
        "\n",
        "# Assuming 'fpath' is the path to your dataset and 'batch_size' is defined\n",
        "\n",
        "datagen = ImageDataGenerator(\n",
        "    rescale=1/255.,\n",
        "    zoom_range=0.2,\n",
        "    rotation_range=30,\n",
        "    horizontal_flip=True\n",
        ")\n",
        "\n",
        "train_gen = datagen.flow_from_directory(\n",
        "    fpath,\n",
        "    target_size=(224, 224),\n",
        "    subset=\"training\",\n",
        "    class_mode='categorical',\n",
        "    batch_size=batch_size\n",
        ")\n",
        "\n",
        "valid_gen = datagen.flow_from_directory(\n",
        "    fffpath,\n",
        "    target_size=(224, 224),\n",
        "    batch_size=(batch_size),\n",
        "    subset='training',\n",
        "    class_mode='categorical'\n",
        ")\n",
        "\n",
        "# For test data\n",
        "test_gen = ImageDataGenerator(rescale=1/255.).flow_from_directory(\n",
        "    ffpath,\n",
        "    target_size=(224, 224),\n",
        "    batch_size=64,\n",
        "    class_mode='categorical',\n",
        "    shuffle=False  # Set shuffle to False for test data\n",
        ")"
      ]
    },
    {
      "cell_type": "code",
      "execution_count": null,
      "id": "ac96fe89",
      "metadata": {
        "_kg_hide-output": true,
        "execution": {
          "iopub.execute_input": "2024-01-20T18:36:38.187466Z",
          "iopub.status.busy": "2024-01-20T18:36:38.187004Z",
          "iopub.status.idle": "2024-01-20T18:39:31.594387Z",
          "shell.execute_reply": "2024-01-20T18:39:31.593479Z"
        },
        "papermill": {
          "duration": 173.41614,
          "end_time": "2024-01-20T18:39:31.596526",
          "exception": false,
          "start_time": "2024-01-20T18:36:38.180386",
          "status": "completed"
        },
        "scrolled": true,
        "tags": [],
        "colab": {
          "base_uri": "https://localhost:8080/"
        },
        "id": "ac96fe89",
        "outputId": "4c09688d-74f1-411e-d97b-9a88855120f4"
      },
      "outputs": [
        {
          "output_type": "stream",
          "name": "stdout",
          "text": [
            "Downloading data from https://storage.googleapis.com/keras-applications/efficientnetb3_notop.h5\n",
            "43941136/43941136 [==============================] - 0s 0us/step\n",
            "Epoch 1/50\n",
            "4/8 [==============>...............] - ETA: 22s - loss: 1.2913 - accuracy: 0.5000"
          ]
        },
        {
          "output_type": "stream",
          "name": "stderr",
          "text": [
            "/usr/local/lib/python3.10/dist-packages/PIL/Image.py:996: UserWarning: Palette images with Transparency expressed in bytes should be converted to RGBA images\n",
            "  warnings.warn(\n"
          ]
        },
        {
          "output_type": "stream",
          "name": "stdout",
          "text": [
            "8/8 [==============================] - ETA: 0s - loss: 1.4005 - accuracy: 0.4957\n",
            "Epoch 1: val_accuracy improved from -inf to 0.50909, saving model to best_model.h5\n"
          ]
        },
        {
          "output_type": "stream",
          "name": "stderr",
          "text": [
            "/usr/local/lib/python3.10/dist-packages/keras/src/engine/training.py:3103: UserWarning: You are saving your model as an HDF5 file via `model.save()`. This file format is considered legacy. We recommend using instead the native Keras format, e.g. `model.save('my_model.keras')`.\n",
            "  saving_api.save_model(\n"
          ]
        },
        {
          "output_type": "stream",
          "name": "stdout",
          "text": [
            "\b\b\b\b\b\b\b\b\b\b\b\b\b\b\b\b\b\b\b\b\b\b\b\b\b\b\b\b\b\b\b\b\b\b\b\b\b\b\b\b\b\b\b\b\b\b\b\b\b\b\b\b\b\b\b\b\b\b\b\b\b\b\b\b\b\b\b\b\b\b\b\b\b\b\b\b\b\b\b\b\r8/8 [==============================] - 105s 11s/step - loss: 1.4005 - accuracy: 0.4957 - val_loss: 2.3635 - val_accuracy: 0.5091\n",
            "Epoch 2/50\n",
            "8/8 [==============================] - ETA: 0s - loss: 1.3915 - accuracy: 0.4804\n",
            "Epoch 2: val_accuracy improved from 0.50909 to 0.54545, saving model to best_model.h5\n",
            "8/8 [==============================] - 10s 1s/step - loss: 1.3915 - accuracy: 0.4804 - val_loss: 0.6988 - val_accuracy: 0.5455\n",
            "Epoch 3/50\n",
            "8/8 [==============================] - ETA: 0s - loss: 1.2498 - accuracy: 0.5000\n",
            "Epoch 3: val_accuracy did not improve from 0.54545\n",
            "8/8 [==============================] - 11s 1s/step - loss: 1.2498 - accuracy: 0.5000 - val_loss: 0.7139 - val_accuracy: 0.4909\n",
            "Epoch 4/50\n",
            "8/8 [==============================] - ETA: 0s - loss: 0.9773 - accuracy: 0.5087\n",
            "Epoch 4: val_accuracy did not improve from 0.54545\n",
            "8/8 [==============================] - 12s 2s/step - loss: 0.9773 - accuracy: 0.5087 - val_loss: 0.8494 - val_accuracy: 0.4909\n",
            "Epoch 5/50\n",
            "8/8 [==============================] - ETA: 0s - loss: 1.0423 - accuracy: 0.4804\n",
            "Epoch 5: val_accuracy did not improve from 0.54545\n",
            "8/8 [==============================] - 11s 1s/step - loss: 1.0423 - accuracy: 0.4804 - val_loss: 0.7379 - val_accuracy: 0.4909\n",
            "Epoch 6/50\n",
            "8/8 [==============================] - ETA: 0s - loss: 0.9049 - accuracy: 0.4870\n",
            "Epoch 6: val_accuracy did not improve from 0.54545\n",
            "8/8 [==============================] - 10s 1s/step - loss: 0.9049 - accuracy: 0.4870 - val_loss: 0.7163 - val_accuracy: 0.4909\n",
            "Epoch 7/50\n",
            "8/8 [==============================] - ETA: 0s - loss: 0.8247 - accuracy: 0.5739\n",
            "Epoch 7: val_accuracy did not improve from 0.54545\n",
            "8/8 [==============================] - 10s 1s/step - loss: 0.8247 - accuracy: 0.5739 - val_loss: 0.7794 - val_accuracy: 0.4909\n",
            "Epoch 8/50\n",
            "8/8 [==============================] - ETA: 0s - loss: 0.8857 - accuracy: 0.4848\n",
            "Epoch 8: val_accuracy did not improve from 0.54545\n",
            "8/8 [==============================] - 11s 1s/step - loss: 0.8857 - accuracy: 0.4848 - val_loss: 0.7385 - val_accuracy: 0.4909\n",
            "Epoch 9/50\n",
            "8/8 [==============================] - ETA: 0s - loss: 0.8706 - accuracy: 0.5022\n",
            "Epoch 9: val_accuracy did not improve from 0.54545\n",
            "8/8 [==============================] - 11s 1s/step - loss: 0.8706 - accuracy: 0.5022 - val_loss: 0.6926 - val_accuracy: 0.4545\n",
            "Epoch 10/50\n",
            "8/8 [==============================] - ETA: 0s - loss: 0.8291 - accuracy: 0.5043\n",
            "Epoch 10: val_accuracy did not improve from 0.54545\n",
            "8/8 [==============================] - 10s 1s/step - loss: 0.8291 - accuracy: 0.5043 - val_loss: 0.7020 - val_accuracy: 0.4909\n",
            "Epoch 11/50\n",
            "8/8 [==============================] - ETA: 0s - loss: 0.7729 - accuracy: 0.4870\n",
            "Epoch 11: val_accuracy did not improve from 0.54545\n",
            "8/8 [==============================] - 10s 1s/step - loss: 0.7729 - accuracy: 0.4870 - val_loss: 0.7145 - val_accuracy: 0.4909\n",
            "Epoch 12/50\n",
            "8/8 [==============================] - ETA: 0s - loss: 0.7138 - accuracy: 0.5152\n",
            "Epoch 12: val_accuracy did not improve from 0.54545\n",
            "8/8 [==============================] - 11s 1s/step - loss: 0.7138 - accuracy: 0.5152 - val_loss: 0.7103 - val_accuracy: 0.4909\n",
            "Epoch 13/50\n",
            "8/8 [==============================] - ETA: 0s - loss: 0.7247 - accuracy: 0.4913\n",
            "Epoch 13: val_accuracy did not improve from 0.54545\n",
            "8/8 [==============================] - 11s 1s/step - loss: 0.7247 - accuracy: 0.4913 - val_loss: 0.6946 - val_accuracy: 0.4909\n",
            "Epoch 14/50\n",
            "8/8 [==============================] - ETA: 0s - loss: 0.7527 - accuracy: 0.4565\n",
            "Epoch 14: val_accuracy did not improve from 0.54545\n",
            "8/8 [==============================] - 9s 1s/step - loss: 0.7527 - accuracy: 0.4565 - val_loss: 0.6932 - val_accuracy: 0.5091\n",
            "Epoch 15/50\n",
            "8/8 [==============================] - ETA: 0s - loss: 0.7348 - accuracy: 0.4674\n",
            "Epoch 15: val_accuracy did not improve from 0.54545\n",
            "8/8 [==============================] - 10s 1s/step - loss: 0.7348 - accuracy: 0.4674 - val_loss: 0.6927 - val_accuracy: 0.5091\n",
            "Epoch 16/50\n",
            "8/8 [==============================] - ETA: 0s - loss: 0.7303 - accuracy: 0.5000\n",
            "Epoch 16: val_accuracy did not improve from 0.54545\n",
            "8/8 [==============================] - 11s 1s/step - loss: 0.7303 - accuracy: 0.5000 - val_loss: 0.6934 - val_accuracy: 0.5091\n",
            "Epoch 17/50\n",
            "8/8 [==============================] - ETA: 0s - loss: 0.7447 - accuracy: 0.4739\n",
            "Epoch 17: val_accuracy did not improve from 0.54545\n",
            "8/8 [==============================] - 11s 2s/step - loss: 0.7447 - accuracy: 0.4739 - val_loss: 0.6928 - val_accuracy: 0.5091\n",
            "Epoch 18/50\n",
            "8/8 [==============================] - ETA: 0s - loss: 0.7356 - accuracy: 0.4522\n",
            "Epoch 18: val_accuracy did not improve from 0.54545\n",
            "8/8 [==============================] - 9s 1s/step - loss: 0.7356 - accuracy: 0.4522 - val_loss: 0.6930 - val_accuracy: 0.5091\n",
            "Epoch 19/50\n",
            "8/8 [==============================] - ETA: 0s - loss: 0.7043 - accuracy: 0.4761\n",
            "Epoch 19: val_accuracy did not improve from 0.54545\n",
            "8/8 [==============================] - 10s 1s/step - loss: 0.7043 - accuracy: 0.4761 - val_loss: 0.6932 - val_accuracy: 0.5091\n",
            "Epoch 20/50\n",
            "8/8 [==============================] - ETA: 0s - loss: 0.7022 - accuracy: 0.4891\n",
            "Epoch 20: val_accuracy improved from 0.54545 to 0.58182, saving model to best_model.h5\n",
            "8/8 [==============================] - 11s 1s/step - loss: 0.7022 - accuracy: 0.4891 - val_loss: 0.6932 - val_accuracy: 0.5818\n",
            "Epoch 21/50\n",
            "8/8 [==============================] - ETA: 0s - loss: 0.7083 - accuracy: 0.4957\n",
            "Epoch 21: val_accuracy did not improve from 0.58182\n",
            "8/8 [==============================] - 10s 1s/step - loss: 0.7083 - accuracy: 0.4957 - val_loss: 0.6931 - val_accuracy: 0.4909\n",
            "Epoch 22/50\n",
            "8/8 [==============================] - ETA: 0s - loss: 0.6975 - accuracy: 0.4870\n",
            "Epoch 22: val_accuracy did not improve from 0.58182\n",
            "8/8 [==============================] - 9s 1s/step - loss: 0.6975 - accuracy: 0.4870 - val_loss: 0.6927 - val_accuracy: 0.5091\n",
            "Epoch 23/50\n",
            "8/8 [==============================] - ETA: 0s - loss: 0.7090 - accuracy: 0.5109\n",
            "Epoch 23: val_accuracy did not improve from 0.58182\n",
            "8/8 [==============================] - 10s 1s/step - loss: 0.7090 - accuracy: 0.5109 - val_loss: 0.6931 - val_accuracy: 0.5091\n",
            "Epoch 24/50\n",
            "8/8 [==============================] - ETA: 0s - loss: 0.7072 - accuracy: 0.5000\n",
            "Epoch 24: val_accuracy did not improve from 0.58182\n",
            "8/8 [==============================] - 10s 1s/step - loss: 0.7072 - accuracy: 0.5000 - val_loss: 0.6931 - val_accuracy: 0.5091\n",
            "Epoch 25/50\n",
            "8/8 [==============================] - ETA: 0s - loss: 0.6995 - accuracy: 0.5543\n",
            "Epoch 25: val_accuracy did not improve from 0.58182\n",
            "8/8 [==============================] - 9s 1s/step - loss: 0.6995 - accuracy: 0.5543 - val_loss: 0.6933 - val_accuracy: 0.5091\n",
            "Epoch 26/50\n",
            "8/8 [==============================] - ETA: 0s - loss: 0.7091 - accuracy: 0.5152\n",
            "Epoch 26: val_accuracy did not improve from 0.58182\n",
            "8/8 [==============================] - 9s 1s/step - loss: 0.7091 - accuracy: 0.5152 - val_loss: 0.6930 - val_accuracy: 0.5091\n",
            "Epoch 27/50\n",
            "8/8 [==============================] - ETA: 0s - loss: 0.7080 - accuracy: 0.4761\n",
            "Epoch 27: val_accuracy did not improve from 0.58182\n",
            "8/8 [==============================] - 10s 1s/step - loss: 0.7080 - accuracy: 0.4761 - val_loss: 0.6931 - val_accuracy: 0.5091\n",
            "Epoch 28/50\n",
            "8/8 [==============================] - ETA: 0s - loss: 0.6901 - accuracy: 0.5152\n",
            "Epoch 28: val_accuracy did not improve from 0.58182\n",
            "8/8 [==============================] - 10s 1s/step - loss: 0.6901 - accuracy: 0.5152 - val_loss: 0.6930 - val_accuracy: 0.5091\n",
            "Epoch 29/50\n",
            "8/8 [==============================] - ETA: 0s - loss: 0.6911 - accuracy: 0.4891\n",
            "Epoch 29: val_accuracy did not improve from 0.58182\n",
            "8/8 [==============================] - 12s 2s/step - loss: 0.6911 - accuracy: 0.4891 - val_loss: 0.6930 - val_accuracy: 0.5091\n",
            "Epoch 30/50\n",
            "8/8 [==============================] - ETA: 0s - loss: 0.7236 - accuracy: 0.4935\n",
            "Epoch 30: val_accuracy did not improve from 0.58182\n",
            "8/8 [==============================] - 10s 1s/step - loss: 0.7236 - accuracy: 0.4935 - val_loss: 0.6957 - val_accuracy: 0.5091\n",
            "Epoch 31/50\n",
            "8/8 [==============================] - ETA: 0s - loss: 0.6928 - accuracy: 0.5130\n",
            "Epoch 31: val_accuracy did not improve from 0.58182\n",
            "8/8 [==============================] - 10s 1s/step - loss: 0.6928 - accuracy: 0.5130 - val_loss: 0.6928 - val_accuracy: 0.5091\n",
            "Epoch 32/50\n",
            "8/8 [==============================] - ETA: 0s - loss: 0.6978 - accuracy: 0.5152\n",
            "Epoch 32: val_accuracy did not improve from 0.58182\n",
            "8/8 [==============================] - 9s 1s/step - loss: 0.6978 - accuracy: 0.5152 - val_loss: 0.6916 - val_accuracy: 0.5091\n",
            "Epoch 33/50\n",
            "8/8 [==============================] - ETA: 0s - loss: 0.6895 - accuracy: 0.5326\n",
            "Epoch 33: val_accuracy did not improve from 0.58182\n",
            "8/8 [==============================] - 9s 1s/step - loss: 0.6895 - accuracy: 0.5326 - val_loss: 0.6938 - val_accuracy: 0.4909\n",
            "Epoch 34/50\n",
            "8/8 [==============================] - ETA: 0s - loss: 0.7115 - accuracy: 0.4587\n",
            "Epoch 34: val_accuracy did not improve from 0.58182\n",
            "8/8 [==============================] - 10s 1s/step - loss: 0.7115 - accuracy: 0.4587 - val_loss: 0.6927 - val_accuracy: 0.5273\n",
            "Epoch 35/50\n",
            "8/8 [==============================] - ETA: 0s - loss: 0.6980 - accuracy: 0.4870\n",
            "Epoch 35: val_accuracy did not improve from 0.58182\n",
            "8/8 [==============================] - 10s 1s/step - loss: 0.6980 - accuracy: 0.4870 - val_loss: 0.6931 - val_accuracy: 0.4909\n",
            "Epoch 36/50\n",
            "8/8 [==============================] - ETA: 0s - loss: 0.6991 - accuracy: 0.4717\n",
            "Epoch 36: val_accuracy did not improve from 0.58182\n",
            "8/8 [==============================] - 9s 1s/step - loss: 0.6991 - accuracy: 0.4717 - val_loss: 0.6956 - val_accuracy: 0.4909\n",
            "Epoch 37/50\n",
            "8/8 [==============================] - ETA: 0s - loss: 0.7122 - accuracy: 0.4891\n",
            "Epoch 37: val_accuracy did not improve from 0.58182\n",
            "8/8 [==============================] - 10s 1s/step - loss: 0.7122 - accuracy: 0.4891 - val_loss: 0.7008 - val_accuracy: 0.4545\n",
            "Epoch 38/50\n",
            "8/8 [==============================] - ETA: 0s - loss: 0.7105 - accuracy: 0.4804\n",
            "Epoch 38: val_accuracy did not improve from 0.58182\n",
            "8/8 [==============================] - 10s 1s/step - loss: 0.7105 - accuracy: 0.4804 - val_loss: 0.7022 - val_accuracy: 0.4727\n",
            "Epoch 39/50\n",
            "8/8 [==============================] - ETA: 0s - loss: 0.6964 - accuracy: 0.5022\n",
            "Epoch 39: val_accuracy did not improve from 0.58182\n",
            "8/8 [==============================] - 11s 1s/step - loss: 0.6964 - accuracy: 0.5022 - val_loss: 0.6926 - val_accuracy: 0.4909\n",
            "Epoch 40/50\n",
            "8/8 [==============================] - ETA: 0s - loss: 0.7010 - accuracy: 0.4761\n",
            "Epoch 40: val_accuracy improved from 0.58182 to 0.61818, saving model to best_model.h5\n",
            "8/8 [==============================] - 9s 1s/step - loss: 0.7010 - accuracy: 0.4761 - val_loss: 0.6927 - val_accuracy: 0.6182\n",
            "Epoch 41/50\n",
            "8/8 [==============================] - ETA: 0s - loss: 0.7089 - accuracy: 0.5000\n",
            "Epoch 41: val_accuracy did not improve from 0.61818\n",
            "8/8 [==============================] - 10s 1s/step - loss: 0.7089 - accuracy: 0.5000 - val_loss: 0.6897 - val_accuracy: 0.5091\n",
            "Epoch 42/50\n",
            "8/8 [==============================] - ETA: 0s - loss: 0.6984 - accuracy: 0.4891\n",
            "Epoch 42: val_accuracy did not improve from 0.61818\n",
            "8/8 [==============================] - 10s 1s/step - loss: 0.6984 - accuracy: 0.4891 - val_loss: 0.6933 - val_accuracy: 0.5091\n",
            "Epoch 43/50\n",
            "8/8 [==============================] - ETA: 0s - loss: 0.6979 - accuracy: 0.5609\n",
            "Epoch 43: val_accuracy did not improve from 0.61818\n",
            "8/8 [==============================] - 10s 1s/step - loss: 0.6979 - accuracy: 0.5609 - val_loss: 0.6931 - val_accuracy: 0.5636\n",
            "Epoch 44/50\n",
            "8/8 [==============================] - ETA: 0s - loss: 0.6958 - accuracy: 0.4457\n",
            "Epoch 44: val_accuracy did not improve from 0.61818\n",
            "8/8 [==============================] - 9s 1s/step - loss: 0.6958 - accuracy: 0.4457 - val_loss: 0.6933 - val_accuracy: 0.5091\n",
            "Epoch 45/50\n",
            "8/8 [==============================] - ETA: 0s - loss: 0.7037 - accuracy: 0.4696\n",
            "Epoch 45: val_accuracy did not improve from 0.61818\n",
            "8/8 [==============================] - 10s 1s/step - loss: 0.7037 - accuracy: 0.4696 - val_loss: 0.6937 - val_accuracy: 0.4909\n",
            "Epoch 46/50\n",
            "8/8 [==============================] - ETA: 0s - loss: 0.7055 - accuracy: 0.5152\n",
            "Epoch 46: val_accuracy did not improve from 0.61818\n",
            "8/8 [==============================] - 12s 1s/step - loss: 0.7055 - accuracy: 0.5152 - val_loss: 0.6915 - val_accuracy: 0.5091\n",
            "Epoch 47/50\n",
            "8/8 [==============================] - ETA: 0s - loss: 0.6957 - accuracy: 0.5130\n",
            "Epoch 47: val_accuracy did not improve from 0.61818\n",
            "8/8 [==============================] - 9s 1s/step - loss: 0.6957 - accuracy: 0.5130 - val_loss: 0.6929 - val_accuracy: 0.4909\n",
            "Epoch 48/50\n",
            "8/8 [==============================] - ETA: 0s - loss: 0.6968 - accuracy: 0.5217\n",
            "Epoch 48: val_accuracy did not improve from 0.61818\n",
            "8/8 [==============================] - 9s 1s/step - loss: 0.6968 - accuracy: 0.5217 - val_loss: 0.6915 - val_accuracy: 0.5273\n",
            "Epoch 49/50\n",
            "8/8 [==============================] - ETA: 0s - loss: 0.6996 - accuracy: 0.4891\n",
            "Epoch 49: val_accuracy did not improve from 0.61818\n",
            "8/8 [==============================] - 10s 1s/step - loss: 0.6996 - accuracy: 0.4891 - val_loss: 0.6926 - val_accuracy: 0.4909\n",
            "Epoch 50/50\n",
            "8/8 [==============================] - ETA: 0s - loss: 0.6950 - accuracy: 0.5304\n",
            "Epoch 50: val_accuracy did not improve from 0.61818\n",
            "8/8 [==============================] - 10s 1s/step - loss: 0.6950 - accuracy: 0.5304 - val_loss: 0.6961 - val_accuracy: 0.5273\n"
          ]
        }
      ],
      "source": [
        "import tensorflow as tf\n",
        "from tensorflow.keras.models import Sequential\n",
        "from tensorflow.keras.layers import Dense, Dropout, BatchNormalization\n",
        "from tensorflow.keras.callbacks import ModelCheckpoint\n",
        "\n",
        "# Assuming train_gen and valid_gen are your image data generators\n",
        "\n",
        "img_size = (224, 224)\n",
        "channels = 3\n",
        "img_shape = (img_size[0], img_size[1], channels)\n",
        "class_count = len(list(train_gen.class_indices.keys()))\n",
        "\n",
        "# Create pre-trained model\n",
        "base_model = tf.keras.applications.EfficientNetB3(include_top=False, weights=\"imagenet\", input_shape=img_shape, pooling='max')\n",
        "for layer in base_model.layers:\n",
        "    layer.trainable = False\n",
        "model = Sequential([\n",
        "    base_model,\n",
        "    BatchNormalization(),\n",
        "    Dense(256, activation='relu'),\n",
        "    Dropout(0.3),\n",
        "     Dense(64, activation='relu'),\n",
        "    Dropout(0.3),\n",
        "    Dense(class_count, activation='softmax')\n",
        "])\n",
        "\n",
        "optimizer = tf.keras.optimizers.Adam()\n",
        "model.compile(optimizer=optimizer, loss='categorical_crossentropy', metrics=['accuracy'])\n",
        "\n",
        "# Define filepath to save the best model\n",
        "filepath = 'best_model.h5'\n",
        "\n",
        "# Create ModelCheckpoint callback to save the best model based on validation accuracy\n",
        "checkpoint = ModelCheckpoint(filepath, monitor='val_accuracy', verbose=1, save_best_only=True, mode='max')\n",
        "# Train the model with the added callback\n",
        "\n",
        "history = model.fit(\n",
        "    x=train_gen,\n",
        "    epochs=50,\n",
        "    verbose=1,\n",
        "    validation_data=valid_gen,\n",
        "    callbacks=[checkpoint]\n",
        ")"
      ]
    },
    {
      "cell_type": "code",
      "execution_count": null,
      "id": "61a304b8",
      "metadata": {
        "execution": {
          "iopub.execute_input": "2024-01-20T18:39:31.634721Z",
          "iopub.status.busy": "2024-01-20T18:39:31.634392Z",
          "iopub.status.idle": "2024-01-20T18:39:51.302048Z",
          "shell.execute_reply": "2024-01-20T18:39:51.300806Z"
        },
        "papermill": {
          "duration": 19.688717,
          "end_time": "2024-01-20T18:39:51.304103",
          "exception": false,
          "start_time": "2024-01-20T18:39:31.615386",
          "status": "completed"
        },
        "tags": [],
        "colab": {
          "base_uri": "https://localhost:8080/"
        },
        "id": "61a304b8",
        "outputId": "40798ddc-fa8f-47fe-a1c0-8dfa02773dae"
      },
      "outputs": [
        {
          "output_type": "stream",
          "name": "stdout",
          "text": [
            "8/8 [==============================] - 14s 1s/step - loss: 0.6924 - accuracy: 0.5152\n",
            "1/1 [==============================] - 1s 1s/step - loss: 0.6926 - accuracy: 0.4909\n",
            "1/1 [==============================] - 3s 3s/step - loss: 0.6905 - accuracy: 0.5667\n",
            "Train Loss:  0.6924240589141846\n",
            "Train Accuracy:  0.5152173638343811\n",
            "--------------------\n",
            "Validation Loss:  0.6926167011260986\n",
            "Validation Accuracy:  0.4909090995788574\n",
            "--------------------\n",
            "Test Loss:  0.6905153393745422\n",
            "Test Accuracy:  0.5666666626930237\n"
          ]
        }
      ],
      "source": [
        "import tensorflow as tf\n",
        "from tensorflow.keras.models import load_model, Model\n",
        "from tensorflow.keras.layers import Input, Average\n",
        "\n",
        "\n",
        "\n",
        "model= load_model('best_model.h5')\n",
        "\n",
        "train_score = model.evaluate(train_gen, steps= len(train_gen), verbose= 1)\n",
        "valid_score = model.evaluate(valid_gen, steps= len(valid_gen), verbose= 1)\n",
        "test_score = model.evaluate(test_gen, steps= len(test_gen), verbose= 1)\n",
        "\n",
        "print(\"Train Loss: \", train_score[0])\n",
        "print(\"Train Accuracy: \", train_score[1])\n",
        "print('-' * 20)\n",
        "print(\"Validation Loss: \", valid_score[0])\n",
        "print(\"Validation Accuracy: \", valid_score[1])\n",
        "print('-' * 20)\n",
        "print(\"Test Loss: \", test_score[0])\n",
        "print(\"Test Accuracy: \", test_score[1])"
      ]
    },
    {
      "cell_type": "code",
      "execution_count": null,
      "id": "1d6fa145",
      "metadata": {
        "execution": {
          "iopub.execute_input": "2024-01-20T18:39:51.344215Z",
          "iopub.status.busy": "2024-01-20T18:39:51.343904Z",
          "iopub.status.idle": "2024-01-20T18:39:59.368223Z",
          "shell.execute_reply": "2024-01-20T18:39:59.367156Z"
        },
        "papermill": {
          "duration": 8.046661,
          "end_time": "2024-01-20T18:39:59.370503",
          "exception": false,
          "start_time": "2024-01-20T18:39:51.323842",
          "status": "completed"
        },
        "tags": [],
        "colab": {
          "base_uri": "https://localhost:8080/"
        },
        "id": "1d6fa145",
        "outputId": "f94cafd4-5a82-4b74-f6a5-df0a91197a38"
      },
      "outputs": [
        {
          "output_type": "stream",
          "name": "stderr",
          "text": [
            "<ipython-input-9-c704b8641e8f>:2: UserWarning: `Model.predict_generator` is deprecated and will be removed in a future version. Please use `Model.predict`, which supports generators.\n",
            "  preds = model.predict_generator(test_gen)\n"
          ]
        },
        {
          "output_type": "stream",
          "name": "stdout",
          "text": [
            "[1 0 0 0 0 0 0 1 1 0 0 0 0 0 0 0 0 0 0 0 0 0 1 0 0 1 0 0 0 0 0 0 0 1 0 1 0\n",
            " 1 0 0 1 0 0 1 0 1 1 0 1 0 0 0 0 0 0 0 1 0 0 0]\n"
          ]
        }
      ],
      "source": [
        "model = load_model('best_model.h5')\n",
        "preds = model.predict_generator(test_gen)\n",
        "y_pred = np.argmax(preds, axis=1)\n",
        "print(y_pred)"
      ]
    },
    {
      "cell_type": "code",
      "execution_count": null,
      "id": "d4854a36",
      "metadata": {
        "execution": {
          "iopub.execute_input": "2024-01-20T18:39:59.412072Z",
          "iopub.status.busy": "2024-01-20T18:39:59.411427Z",
          "iopub.status.idle": "2024-01-20T18:39:59.420629Z",
          "shell.execute_reply": "2024-01-20T18:39:59.419825Z"
        },
        "papermill": {
          "duration": 0.031323,
          "end_time": "2024-01-20T18:39:59.422423",
          "exception": false,
          "start_time": "2024-01-20T18:39:59.391100",
          "status": "completed"
        },
        "tags": [],
        "id": "d4854a36"
      },
      "outputs": [],
      "source": [
        "import itertools\n",
        "import matplotlib.pyplot as plt\n",
        "def plot_confusion_matrix(cm, classes, normalize= False, title= 'Confusion Matrix', cmap= plt.cm.Blues):\n",
        "    plt.figure(figsize= (10, 10))\n",
        "    plt.imshow(cm, interpolation= 'nearest', cmap= cmap)\n",
        "    plt.title(title)\n",
        "    plt.colorbar()\n",
        "    tick_marks = np.arange(len(classes))\n",
        "    plt.xticks(tick_marks, classes, rotation= 45)\n",
        "    plt.yticks(tick_marks, classes)\n",
        "    if normalize:\n",
        "        cm = cm.astype('float') / cm.sum(axis= 1)[:, np.newaxis]\n",
        "        print('Normalized Confusion Matrix')\n",
        "    else:\n",
        "        print('Confusion Matrix, Without Normalization')\n",
        "    print(cm)\n",
        "    thresh = cm.max() / 2.\n",
        "    for i, j in itertools.product(range(cm.shape[0]), range(cm.shape[1])):\n",
        "        plt.text(j, i, cm[i, j], horizontalalignment= 'center', color= 'white' if cm[i, j] > thresh else 'black')\n",
        "    plt.tight_layout()\n",
        "    plt.ylabel('True Label')\n",
        "    plt.xlabel('Predicted Label')"
      ]
    },
    {
      "cell_type": "code",
      "execution_count": null,
      "id": "39f29d31",
      "metadata": {
        "execution": {
          "iopub.execute_input": "2024-01-20T18:39:59.462625Z",
          "iopub.status.busy": "2024-01-20T18:39:59.461950Z",
          "iopub.status.idle": "2024-01-20T18:39:59.955719Z",
          "shell.execute_reply": "2024-01-20T18:39:59.954660Z"
        },
        "papermill": {
          "duration": 0.516353,
          "end_time": "2024-01-20T18:39:59.958211",
          "exception": false,
          "start_time": "2024-01-20T18:39:59.441858",
          "status": "completed"
        },
        "tags": [],
        "colab": {
          "base_uri": "https://localhost:8080/",
          "height": 1000
        },
        "id": "39f29d31",
        "outputId": "4faa080d-16ab-432c-f314-df543095ba50"
      },
      "outputs": [
        {
          "output_type": "stream",
          "name": "stdout",
          "text": [
            "Confusion Matrix, Without Normalization\n",
            "[[25  5]\n",
            " [21  9]]\n",
            "              precision    recall  f1-score   support\n",
            "\n",
            "        nike       0.54      0.83      0.66        30\n",
            "      adidas       0.64      0.30      0.41        30\n",
            "\n",
            "    accuracy                           0.57        60\n",
            "   macro avg       0.59      0.57      0.53        60\n",
            "weighted avg       0.59      0.57      0.53        60\n",
            "\n"
          ]
        },
        {
          "output_type": "display_data",
          "data": {
            "text/plain": [
              "<Figure size 1000x1000 with 2 Axes>"
            ],
            "image/png": "[encoded data removed]"
          },
          "metadata": {}
        }
      ],
      "source": [
        "from sklearn.metrics import confusion_matrix, classification_report\n",
        "import matplotlib.pyplot as plt\n",
        "\n",
        "# Confusion matrix\n",
        "cm = confusion_matrix(test_gen.classes, y_pred)\n",
        "plot_confusion_matrix(cm= cm, classes= target_names, title = 'Confusion Matrix')\n",
        "# Classification report\n",
        "print(classification_report(test_gen.classes, y_pred, target_names= target_names))"
      ]
    },
    {
      "cell_type": "code",
      "execution_count": null,
      "id": "ca0706cb",
      "metadata": {
        "_kg_hide-output": true,
        "execution": {
          "iopub.execute_input": "2024-01-20T18:39:59.999537Z",
          "iopub.status.busy": "2024-01-20T18:39:59.999250Z",
          "iopub.status.idle": "2024-01-20T18:42:42.244332Z",
          "shell.execute_reply": "2024-01-20T18:42:42.243340Z"
        },
        "papermill": {
          "duration": 162.268042,
          "end_time": "2024-01-20T18:42:42.246450",
          "exception": false,
          "start_time": "2024-01-20T18:39:59.978408",
          "status": "completed"
        },
        "scrolled": true,
        "tags": [],
        "colab": {
          "base_uri": "https://localhost:8080/"
        },
        "id": "ca0706cb",
        "outputId": "0c4cb3d4-1f19-43a1-8c07-6ccf92bc56f7"
      },
      "outputs": [
        {
          "output_type": "stream",
          "name": "stdout",
          "text": [
            "Epoch 1/50\n",
            "8/8 [==============================] - ETA: 0s - loss: 0.8189 - accuracy: 0.5522\n",
            "Epoch 1: val_accuracy improved from -inf to 0.49091, saving model to best_model_resnet.h5\n",
            "8/8 [==============================] - 17s 2s/step - loss: 0.8189 - accuracy: 0.5522 - val_loss: 1.4379 - val_accuracy: 0.4909\n",
            "Epoch 2/50\n",
            "8/8 [==============================] - ETA: 0s - loss: 0.7058 - accuracy: 0.6478\n",
            "Epoch 2: val_accuracy did not improve from 0.49091\n",
            "8/8 [==============================] - 10s 1s/step - loss: 0.7058 - accuracy: 0.6478 - val_loss: 1.2288 - val_accuracy: 0.4909\n",
            "Epoch 3/50\n",
            "8/8 [==============================] - ETA: 0s - loss: 0.7020 - accuracy: 0.6391\n",
            "Epoch 3: val_accuracy did not improve from 0.49091\n",
            "8/8 [==============================] - 11s 1s/step - loss: 0.7020 - accuracy: 0.6391 - val_loss: 1.0474 - val_accuracy: 0.4909\n",
            "Epoch 4/50\n",
            "8/8 [==============================] - ETA: 0s - loss: 0.6631 - accuracy: 0.6739\n",
            "Epoch 4: val_accuracy did not improve from 0.49091\n",
            "8/8 [==============================] - 9s 1s/step - loss: 0.6631 - accuracy: 0.6739 - val_loss: 0.8605 - val_accuracy: 0.4909\n",
            "Epoch 5/50\n",
            "8/8 [==============================] - ETA: 0s - loss: 0.6125 - accuracy: 0.6957\n",
            "Epoch 5: val_accuracy improved from 0.49091 to 0.54545, saving model to best_model_resnet.h5\n",
            "8/8 [==============================] - 10s 1s/step - loss: 0.6125 - accuracy: 0.6957 - val_loss: 0.7540 - val_accuracy: 0.5455\n",
            "Epoch 6/50\n",
            "8/8 [==============================] - ETA: 0s - loss: 0.5413 - accuracy: 0.7087\n",
            "Epoch 6: val_accuracy did not improve from 0.54545\n",
            "8/8 [==============================] - 10s 1s/step - loss: 0.5413 - accuracy: 0.7087 - val_loss: 0.7834 - val_accuracy: 0.5273\n",
            "Epoch 7/50\n",
            "8/8 [==============================] - ETA: 0s - loss: 0.5786 - accuracy: 0.7196\n",
            "Epoch 7: val_accuracy improved from 0.54545 to 0.56364, saving model to best_model_resnet.h5\n",
            "8/8 [==============================] - 11s 1s/step - loss: 0.5786 - accuracy: 0.7196 - val_loss: 0.7212 - val_accuracy: 0.5636\n",
            "Epoch 8/50\n",
            "8/8 [==============================] - ETA: 0s - loss: 0.5777 - accuracy: 0.7304\n",
            "Epoch 8: val_accuracy did not improve from 0.56364\n",
            "8/8 [==============================] - 10s 1s/step - loss: 0.5777 - accuracy: 0.7304 - val_loss: 0.7342 - val_accuracy: 0.5455\n",
            "Epoch 9/50\n",
            "8/8 [==============================] - ETA: 0s - loss: 0.5543 - accuracy: 0.7087\n",
            "Epoch 9: val_accuracy did not improve from 0.56364\n",
            "8/8 [==============================] - 11s 1s/step - loss: 0.5543 - accuracy: 0.7087 - val_loss: 0.7095 - val_accuracy: 0.5455\n",
            "Epoch 10/50\n",
            "8/8 [==============================] - ETA: 0s - loss: 0.5622 - accuracy: 0.7326\n",
            "Epoch 10: val_accuracy improved from 0.56364 to 0.61818, saving model to best_model_resnet.h5\n",
            "8/8 [==============================] - 11s 1s/step - loss: 0.5622 - accuracy: 0.7326 - val_loss: 0.6635 - val_accuracy: 0.6182\n",
            "Epoch 11/50\n",
            "8/8 [==============================] - ETA: 0s - loss: 0.5033 - accuracy: 0.7609\n",
            "Epoch 11: val_accuracy improved from 0.61818 to 0.74545, saving model to best_model_resnet.h5\n",
            "8/8 [==============================] - 10s 1s/step - loss: 0.5033 - accuracy: 0.7609 - val_loss: 0.5578 - val_accuracy: 0.7455\n",
            "Epoch 12/50\n",
            "8/8 [==============================] - ETA: 0s - loss: 0.5391 - accuracy: 0.7370\n",
            "Epoch 12: val_accuracy did not improve from 0.74545\n",
            "8/8 [==============================] - 17s 2s/step - loss: 0.5391 - accuracy: 0.7370 - val_loss: 0.5774 - val_accuracy: 0.6182\n",
            "Epoch 13/50\n",
            "8/8 [==============================] - ETA: 0s - loss: 0.5041 - accuracy: 0.7522\n",
            "Epoch 13: val_accuracy did not improve from 0.74545\n",
            "8/8 [==============================] - 9s 1s/step - loss: 0.5041 - accuracy: 0.7522 - val_loss: 0.6238 - val_accuracy: 0.6182\n",
            "Epoch 14/50\n",
            "8/8 [==============================] - ETA: 0s - loss: 0.5227 - accuracy: 0.7348\n",
            "Epoch 14: val_accuracy did not improve from 0.74545\n",
            "8/8 [==============================] - 10s 1s/step - loss: 0.5227 - accuracy: 0.7348 - val_loss: 0.6586 - val_accuracy: 0.5636\n",
            "Epoch 15/50\n",
            "8/8 [==============================] - ETA: 0s - loss: 0.4760 - accuracy: 0.7717\n",
            "Epoch 15: val_accuracy did not improve from 0.74545\n",
            "8/8 [==============================] - 10s 1s/step - loss: 0.4760 - accuracy: 0.7717 - val_loss: 0.6269 - val_accuracy: 0.6364\n",
            "Epoch 16/50\n",
            "8/8 [==============================] - ETA: 0s - loss: 0.4676 - accuracy: 0.7870\n",
            "Epoch 16: val_accuracy did not improve from 0.74545\n",
            "8/8 [==============================] - 10s 1s/step - loss: 0.4676 - accuracy: 0.7870 - val_loss: 0.7055 - val_accuracy: 0.5091\n",
            "Epoch 17/50\n",
            "8/8 [==============================] - ETA: 0s - loss: 0.4592 - accuracy: 0.7500\n",
            "Epoch 17: val_accuracy did not improve from 0.74545\n",
            "8/8 [==============================] - 9s 1s/step - loss: 0.4592 - accuracy: 0.7500 - val_loss: 0.7294 - val_accuracy: 0.5455\n",
            "Epoch 18/50\n",
            "8/8 [==============================] - ETA: 0s - loss: 0.5285 - accuracy: 0.7630\n",
            "Epoch 18: val_accuracy did not improve from 0.74545\n",
            "8/8 [==============================] - 11s 1s/step - loss: 0.5285 - accuracy: 0.7630 - val_loss: 0.6321 - val_accuracy: 0.5455\n",
            "Epoch 19/50\n",
            "8/8 [==============================] - ETA: 0s - loss: 0.4688 - accuracy: 0.7696\n",
            "Epoch 19: val_accuracy did not improve from 0.74545\n",
            "8/8 [==============================] - 10s 1s/step - loss: 0.4688 - accuracy: 0.7696 - val_loss: 0.6175 - val_accuracy: 0.6545\n",
            "Epoch 20/50\n",
            "8/8 [==============================] - ETA: 0s - loss: 0.4978 - accuracy: 0.7457\n",
            "Epoch 20: val_accuracy did not improve from 0.74545\n",
            "8/8 [==============================] - 10s 1s/step - loss: 0.4978 - accuracy: 0.7457 - val_loss: 0.5760 - val_accuracy: 0.6727\n",
            "Epoch 21/50\n",
            "8/8 [==============================] - ETA: 0s - loss: 0.5066 - accuracy: 0.7435\n",
            "Epoch 21: val_accuracy did not improve from 0.74545\n",
            "8/8 [==============================] - 9s 1s/step - loss: 0.5066 - accuracy: 0.7435 - val_loss: 0.6475 - val_accuracy: 0.6000\n",
            "Epoch 22/50\n",
            "8/8 [==============================] - ETA: 0s - loss: 0.4520 - accuracy: 0.7891\n",
            "Epoch 22: val_accuracy did not improve from 0.74545\n",
            "8/8 [==============================] - 10s 1s/step - loss: 0.4520 - accuracy: 0.7891 - val_loss: 0.6022 - val_accuracy: 0.7273\n",
            "Epoch 23/50\n",
            "8/8 [==============================] - ETA: 0s - loss: 0.4592 - accuracy: 0.7652\n",
            "Epoch 23: val_accuracy did not improve from 0.74545\n",
            "8/8 [==============================] - 10s 1s/step - loss: 0.4592 - accuracy: 0.7652 - val_loss: 0.5951 - val_accuracy: 0.7091\n",
            "Epoch 24/50\n",
            "8/8 [==============================] - ETA: 0s - loss: 0.4416 - accuracy: 0.8130\n",
            "Epoch 24: val_accuracy did not improve from 0.74545\n",
            "8/8 [==============================] - 9s 1s/step - loss: 0.4416 - accuracy: 0.8130 - val_loss: 0.6320 - val_accuracy: 0.6364\n",
            "Epoch 25/50\n",
            "8/8 [==============================] - ETA: 0s - loss: 0.4591 - accuracy: 0.7739\n",
            "Epoch 25: val_accuracy did not improve from 0.74545\n",
            "8/8 [==============================] - 10s 1s/step - loss: 0.4591 - accuracy: 0.7739 - val_loss: 0.5823 - val_accuracy: 0.6364\n",
            "Epoch 26/50\n",
            "8/8 [==============================] - ETA: 0s - loss: 0.4595 - accuracy: 0.7826\n",
            "Epoch 26: val_accuracy did not improve from 0.74545\n",
            "8/8 [==============================] - 10s 1s/step - loss: 0.4595 - accuracy: 0.7826 - val_loss: 0.5907 - val_accuracy: 0.6909\n",
            "Epoch 27/50\n",
            "8/8 [==============================] - ETA: 0s - loss: 0.4402 - accuracy: 0.8043\n",
            "Epoch 27: val_accuracy did not improve from 0.74545\n",
            "8/8 [==============================] - 10s 1s/step - loss: 0.4402 - accuracy: 0.8043 - val_loss: 0.5682 - val_accuracy: 0.6909\n",
            "Epoch 28/50\n",
            "8/8 [==============================] - ETA: 0s - loss: 0.4248 - accuracy: 0.8043\n",
            "Epoch 28: val_accuracy did not improve from 0.74545\n",
            "8/8 [==============================] - 9s 1s/step - loss: 0.4248 - accuracy: 0.8043 - val_loss: 0.6100 - val_accuracy: 0.6182\n",
            "Epoch 29/50\n",
            "8/8 [==============================] - ETA: 0s - loss: 0.3999 - accuracy: 0.8261\n",
            "Epoch 29: val_accuracy did not improve from 0.74545\n",
            "8/8 [==============================] - 10s 1s/step - loss: 0.3999 - accuracy: 0.8261 - val_loss: 0.6823 - val_accuracy: 0.6545\n",
            "Epoch 30/50\n",
            "8/8 [==============================] - ETA: 0s - loss: 0.4316 - accuracy: 0.7935\n",
            "Epoch 30: val_accuracy did not improve from 0.74545\n",
            "8/8 [==============================] - 10s 1s/step - loss: 0.4316 - accuracy: 0.7935 - val_loss: 0.5740 - val_accuracy: 0.7273\n",
            "Epoch 31/50\n",
            "8/8 [==============================] - ETA: 0s - loss: 0.4122 - accuracy: 0.8109\n",
            "Epoch 31: val_accuracy did not improve from 0.74545\n",
            "8/8 [==============================] - 9s 1s/step - loss: 0.4122 - accuracy: 0.8109 - val_loss: 0.5352 - val_accuracy: 0.6727\n",
            "Epoch 32/50\n",
            "8/8 [==============================] - ETA: 0s - loss: 0.4665 - accuracy: 0.7891\n",
            "Epoch 32: val_accuracy did not improve from 0.74545\n",
            "8/8 [==============================] - 19s 2s/step - loss: 0.4665 - accuracy: 0.7891 - val_loss: 0.6001 - val_accuracy: 0.6182\n",
            "Epoch 33/50\n",
            "8/8 [==============================] - ETA: 0s - loss: 0.4497 - accuracy: 0.7913\n",
            "Epoch 33: val_accuracy did not improve from 0.74545\n",
            "8/8 [==============================] - 11s 1s/step - loss: 0.4497 - accuracy: 0.7913 - val_loss: 0.6093 - val_accuracy: 0.6364\n",
            "Epoch 34/50\n",
            "8/8 [==============================] - ETA: 0s - loss: 0.4141 - accuracy: 0.8196\n",
            "Epoch 34: val_accuracy did not improve from 0.74545\n",
            "8/8 [==============================] - 9s 1s/step - loss: 0.4141 - accuracy: 0.8196 - val_loss: 0.5995 - val_accuracy: 0.6545\n",
            "Epoch 35/50\n",
            "8/8 [==============================] - ETA: 0s - loss: 0.3864 - accuracy: 0.8348\n",
            "Epoch 35: val_accuracy did not improve from 0.74545\n",
            "8/8 [==============================] - 10s 1s/step - loss: 0.3864 - accuracy: 0.8348 - val_loss: 0.5308 - val_accuracy: 0.7455\n",
            "Epoch 36/50\n",
            "8/8 [==============================] - ETA: 0s - loss: 0.4130 - accuracy: 0.8109\n",
            "Epoch 36: val_accuracy did not improve from 0.74545\n",
            "8/8 [==============================] - 10s 1s/step - loss: 0.4130 - accuracy: 0.8109 - val_loss: 0.6535 - val_accuracy: 0.6545\n",
            "Epoch 37/50\n",
            "8/8 [==============================] - ETA: 0s - loss: 0.3933 - accuracy: 0.8239\n",
            "Epoch 37: val_accuracy did not improve from 0.74545\n",
            "8/8 [==============================] - 10s 1s/step - loss: 0.3933 - accuracy: 0.8239 - val_loss: 0.6205 - val_accuracy: 0.6182\n",
            "Epoch 38/50\n",
            "8/8 [==============================] - ETA: 0s - loss: 0.4208 - accuracy: 0.8022\n",
            "Epoch 38: val_accuracy did not improve from 0.74545\n",
            "8/8 [==============================] - 10s 1s/step - loss: 0.4208 - accuracy: 0.8022 - val_loss: 0.6112 - val_accuracy: 0.6727\n",
            "Epoch 39/50\n",
            "8/8 [==============================] - ETA: 0s - loss: 0.3955 - accuracy: 0.8065\n",
            "Epoch 39: val_accuracy did not improve from 0.74545\n",
            "8/8 [==============================] - 10s 1s/step - loss: 0.3955 - accuracy: 0.8065 - val_loss: 0.6313 - val_accuracy: 0.6364\n",
            "Epoch 40/50\n",
            "8/8 [==============================] - ETA: 0s - loss: 0.4194 - accuracy: 0.8130\n",
            "Epoch 40: val_accuracy did not improve from 0.74545\n",
            "8/8 [==============================] - 10s 1s/step - loss: 0.4194 - accuracy: 0.8130 - val_loss: 0.5583 - val_accuracy: 0.7273\n",
            "Epoch 41/50\n",
            "8/8 [==============================] - ETA: 0s - loss: 0.4067 - accuracy: 0.8065\n",
            "Epoch 41: val_accuracy did not improve from 0.74545\n",
            "8/8 [==============================] - 11s 1s/step - loss: 0.4067 - accuracy: 0.8065 - val_loss: 0.6679 - val_accuracy: 0.6545\n",
            "Epoch 42/50\n",
            "8/8 [==============================] - ETA: 0s - loss: 0.4178 - accuracy: 0.7913\n",
            "Epoch 42: val_accuracy did not improve from 0.74545\n",
            "8/8 [==============================] - 9s 1s/step - loss: 0.4178 - accuracy: 0.7913 - val_loss: 0.6051 - val_accuracy: 0.6727\n",
            "Epoch 43/50\n",
            "8/8 [==============================] - ETA: 0s - loss: 0.3766 - accuracy: 0.8348\n",
            "Epoch 43: val_accuracy did not improve from 0.74545\n",
            "8/8 [==============================] - 10s 1s/step - loss: 0.3766 - accuracy: 0.8348 - val_loss: 0.6323 - val_accuracy: 0.6364\n",
            "Epoch 44/50\n",
            "8/8 [==============================] - ETA: 0s - loss: 0.4007 - accuracy: 0.8152\n",
            "Epoch 44: val_accuracy did not improve from 0.74545\n",
            "8/8 [==============================] - 10s 1s/step - loss: 0.4007 - accuracy: 0.8152 - val_loss: 0.6180 - val_accuracy: 0.6727\n",
            "Epoch 45/50\n",
            "8/8 [==============================] - ETA: 0s - loss: 0.3821 - accuracy: 0.8370\n",
            "Epoch 45: val_accuracy did not improve from 0.74545\n",
            "8/8 [==============================] - 10s 1s/step - loss: 0.3821 - accuracy: 0.8370 - val_loss: 0.6978 - val_accuracy: 0.6909\n",
            "Epoch 46/50\n",
            "8/8 [==============================] - ETA: 0s - loss: 0.3505 - accuracy: 0.8435\n",
            "Epoch 46: val_accuracy did not improve from 0.74545\n",
            "8/8 [==============================] - 9s 1s/step - loss: 0.3505 - accuracy: 0.8435 - val_loss: 0.5788 - val_accuracy: 0.6909\n",
            "Epoch 47/50\n",
            "8/8 [==============================] - ETA: 0s - loss: 0.3849 - accuracy: 0.8174\n",
            "Epoch 47: val_accuracy did not improve from 0.74545\n",
            "8/8 [==============================] - 10s 1s/step - loss: 0.3849 - accuracy: 0.8174 - val_loss: 0.6967 - val_accuracy: 0.6364\n",
            "Epoch 48/50\n",
            "8/8 [==============================] - ETA: 0s - loss: 0.3728 - accuracy: 0.8152\n",
            "Epoch 48: val_accuracy did not improve from 0.74545\n",
            "8/8 [==============================] - 10s 1s/step - loss: 0.3728 - accuracy: 0.8152 - val_loss: 0.6347 - val_accuracy: 0.6909\n",
            "Epoch 49/50\n",
            "8/8 [==============================] - ETA: 0s - loss: 0.3954 - accuracy: 0.8109\n",
            "Epoch 49: val_accuracy did not improve from 0.74545\n",
            "8/8 [==============================] - 9s 1s/step - loss: 0.3954 - accuracy: 0.8109 - val_loss: 0.5589 - val_accuracy: 0.7273\n",
            "Epoch 50/50\n",
            "8/8 [==============================] - ETA: 0s - loss: 0.3692 - accuracy: 0.8326\n",
            "Epoch 50: val_accuracy did not improve from 0.74545\n",
            "8/8 [==============================] - 10s 1s/step - loss: 0.3692 - accuracy: 0.8326 - val_loss: 0.5302 - val_accuracy: 0.7273\n"
          ]
        }
      ],
      "source": [
        "import tensorflow as tf\n",
        "from tensorflow.keras.models import Sequential\n",
        "from tensorflow.keras.layers import Dense, Dropout, BatchNormalization\n",
        "from tensorflow.keras.callbacks import ModelCheckpoint\n",
        "\n",
        "# Assuming train_gen and valid_gen are your image data generators\n",
        "\n",
        "img_size = (224, 224)\n",
        "channels = 3\n",
        "img_shape = (img_size[0], img_size[1], channels)\n",
        "class_count = len(list(train_gen.class_indices.keys()))\n",
        "\n",
        "# Create pre-trained model\n",
        "base_model = tf.keras.applications.ResNet50(include_top=False, weights=\"imagenet\", input_shape=img_shape, pooling='max')\n",
        "for layer in base_model.layers:\n",
        "    layer.trainable = False\n",
        "model = Sequential([\n",
        "    base_model,\n",
        "    BatchNormalization(),\n",
        "    Dense(256, activation='relu'),\n",
        "    Dropout(0.3),\n",
        "     Dense(64, activation='relu'),\n",
        "    Dropout(0.3),\n",
        "    Dense(class_count, activation='softmax')\n",
        "])\n",
        "\n",
        "optimizer = tf.keras.optimizers.Adam()\n",
        "model.compile(optimizer=optimizer, loss='categorical_crossentropy', metrics=['accuracy'])\n",
        "\n",
        "# Define filepath to save the best model\n",
        "filepath = 'best_model_resnet.h5'\n",
        "\n",
        "# Create ModelCheckpoint callback to save the best model based on validation accuracy\n",
        "checkpoint = ModelCheckpoint(filepath, monitor='val_accuracy', verbose=1, save_best_only=True, mode='max')\n",
        "# Train the model with the added callback\n",
        "history = model.fit(\n",
        "    x=train_gen,\n",
        "    epochs=50,\n",
        "    verbose=1,\n",
        "    validation_data=valid_gen,\n",
        "    callbacks=[checkpoint]\n",
        ")"
      ]
    },
    {
      "cell_type": "code",
      "execution_count": null,
      "id": "ef4e889d",
      "metadata": {
        "execution": {
          "iopub.execute_input": "2024-01-20T18:42:42.317878Z",
          "iopub.status.busy": "2024-01-20T18:42:42.317518Z",
          "iopub.status.idle": "2024-01-20T18:42:55.495749Z",
          "shell.execute_reply": "2024-01-20T18:42:55.494478Z"
        },
        "papermill": {
          "duration": 13.215101,
          "end_time": "2024-01-20T18:42:55.497738",
          "exception": false,
          "start_time": "2024-01-20T18:42:42.282637",
          "status": "completed"
        },
        "tags": [],
        "colab": {
          "base_uri": "https://localhost:8080/"
        },
        "id": "ef4e889d",
        "outputId": "da2951de-acc0-4e0d-e3e5-d351eb676283"
      },
      "outputs": [
        {
          "output_type": "stream",
          "name": "stdout",
          "text": [
            "8/8 [==============================] - 11s 1s/step - loss: 0.5806 - accuracy: 0.6913\n",
            "1/1 [==============================] - 1s 1s/step - loss: 0.6194 - accuracy: 0.6182\n",
            "1/1 [==============================] - 4s 4s/step - loss: 0.6256 - accuracy: 0.6667\n",
            "Train Loss:  0.5805635452270508\n",
            "Train Accuracy:  0.6913043260574341\n",
            "--------------------\n",
            "Validation Loss:  0.6193737983703613\n",
            "Validation Accuracy:  0.6181818246841431\n",
            "--------------------\n",
            "Test Loss:  0.6255855560302734\n",
            "Test Accuracy:  0.6666666865348816\n"
          ]
        }
      ],
      "source": [
        "import tensorflow as tf\n",
        "from tensorflow.keras.models import load_model, Model\n",
        "from tensorflow.keras.layers import Input, Average\n",
        "\n",
        "\n",
        "\n",
        "model= load_model('best_model_resnet.h5')\n",
        "\n",
        "\n",
        "train_score = model.evaluate(train_gen, steps= len(train_gen), verbose= 1)\n",
        "valid_score = model.evaluate(valid_gen, steps= len(valid_gen), verbose= 1)\n",
        "test_score = model.evaluate(test_gen, steps= len(test_gen), verbose= 1)\n",
        "\n",
        "print(\"Train Loss: \", train_score[0])\n",
        "print(\"Train Accuracy: \", train_score[1])\n",
        "print('-' * 20)\n",
        "print(\"Validation Loss: \", valid_score[0])\n",
        "print(\"Validation Accuracy: \", valid_score[1])\n",
        "print('-' * 20)\n",
        "print(\"Test Loss: \", test_score[0])\n",
        "print(\"Test Accuracy: \", test_score[1])"
      ]
    },
    {
      "cell_type": "code",
      "execution_count": null,
      "id": "50890343",
      "metadata": {
        "execution": {
          "iopub.execute_input": "2024-01-20T18:42:55.568921Z",
          "iopub.status.busy": "2024-01-20T18:42:55.568640Z",
          "iopub.status.idle": "2024-01-20T18:42:59.440582Z",
          "shell.execute_reply": "2024-01-20T18:42:59.439422Z"
        },
        "papermill": {
          "duration": 3.909692,
          "end_time": "2024-01-20T18:42:59.442858",
          "exception": false,
          "start_time": "2024-01-20T18:42:55.533166",
          "status": "completed"
        },
        "tags": [],
        "colab": {
          "base_uri": "https://localhost:8080/"
        },
        "id": "50890343",
        "outputId": "f34df2f6-6259-4901-8bd3-c06624466087"
      },
      "outputs": [
        {
          "output_type": "stream",
          "name": "stderr",
          "text": [
            "<ipython-input-15-edc74298ee48>:2: UserWarning: `Model.predict_generator` is deprecated and will be removed in a future version. Please use `Model.predict`, which supports generators.\n",
            "  preds = model.predict_generator(test_gen)\n"
          ]
        },
        {
          "output_type": "stream",
          "name": "stdout",
          "text": [
            "[1 0 0 0 0 0 0 0 1 0 0 0 0 0 0 0 0 0 0 1 0 0 0 0 0 1 1 1 0 1 1 1 1 1 0 0 1\n",
            " 0 0 1 0 1 0 0 1 1 1 1 1 1 0 0 0 0 1 0 1 1 1 0]\n"
          ]
        }
      ],
      "source": [
        "model = load_model('best_model_resnet.h5')\n",
        "preds = model.predict_generator(test_gen)\n",
        "y_pred = np.argmax(preds, axis=1)\n",
        "print(y_pred)"
      ]
    },
    {
      "cell_type": "code",
      "execution_count": null,
      "id": "ab9127df",
      "metadata": {
        "execution": {
          "iopub.execute_input": "2024-01-20T18:42:59.519785Z",
          "iopub.status.busy": "2024-01-20T18:42:59.519426Z",
          "iopub.status.idle": "2024-01-20T18:42:59.991250Z",
          "shell.execute_reply": "2024-01-20T18:42:59.990397Z"
        },
        "papermill": {
          "duration": 0.511496,
          "end_time": "2024-01-20T18:42:59.993429",
          "exception": false,
          "start_time": "2024-01-20T18:42:59.481933",
          "status": "completed"
        },
        "tags": [],
        "colab": {
          "base_uri": "https://localhost:8080/",
          "height": 1000
        },
        "id": "ab9127df",
        "outputId": "577cf65c-0ab9-416f-eb95-188bdfd5019a"
      },
      "outputs": [
        {
          "output_type": "stream",
          "name": "stdout",
          "text": [
            "Confusion Matrix, Without Normalization\n",
            "[[23  7]\n",
            " [13 17]]\n",
            "              precision    recall  f1-score   support\n",
            "\n",
            "        nike       0.64      0.77      0.70        30\n",
            "      adidas       0.71      0.57      0.63        30\n",
            "\n",
            "    accuracy                           0.67        60\n",
            "   macro avg       0.67      0.67      0.66        60\n",
            "weighted avg       0.67      0.67      0.66        60\n",
            "\n"
          ]
        },
        {
          "output_type": "display_data",
          "data": {
            "text/plain": [
              "<Figure size 1000x1000 with 2 Axes>"
            ],
            "image/png": "[encoded data removed]"
          },
          "metadata": {}
        }
      ],
      "source": [
        "from sklearn.metrics import confusion_matrix, classification_report\n",
        "import matplotlib.pyplot as plt\n",
        "\n",
        "# Confusion matrix\n",
        "cm = confusion_matrix(test_gen.classes, y_pred)\n",
        "plot_confusion_matrix(cm= cm, classes= target_names, title = 'Confusion Matrix')\n",
        "# Classification report\n",
        "print(classification_report(test_gen.classes, y_pred, target_names= target_names))"
      ]
    },
    {
      "cell_type": "code",
      "execution_count": null,
      "id": "edc7220f",
      "metadata": {
        "_kg_hide-output": true,
        "execution": {
          "iopub.execute_input": "2024-01-20T18:43:00.066242Z",
          "iopub.status.busy": "2024-01-20T18:43:00.065611Z",
          "iopub.status.idle": "2024-01-20T18:45:57.223032Z",
          "shell.execute_reply": "2024-01-20T18:45:57.222124Z"
        },
        "papermill": {
          "duration": 177.196261,
          "end_time": "2024-01-20T18:45:57.225108",
          "exception": false,
          "start_time": "2024-01-20T18:43:00.028847",
          "status": "completed"
        },
        "scrolled": true,
        "tags": [],
        "colab": {
          "base_uri": "https://localhost:8080/"
        },
        "id": "edc7220f",
        "outputId": "27edc983-4597-461e-8b36-bba5d54cada0"
      },
      "outputs": [
        {
          "output_type": "stream",
          "name": "stdout",
          "text": [
            "Downloading data from https://storage.googleapis.com/tensorflow/keras-applications/vgg16/vgg16_weights_tf_dim_ordering_tf_kernels_notop.h5\n",
            "58889256/58889256 [==============================] - 0s 0us/step\n",
            "Epoch 1/50\n"
          ]
        },
        {
          "output_type": "stream",
          "name": "stderr",
          "text": [
            "/usr/local/lib/python3.10/dist-packages/PIL/Image.py:996: UserWarning: Palette images with Transparency expressed in bytes should be converted to RGBA images\n",
            "  warnings.warn(\n"
          ]
        },
        {
          "output_type": "stream",
          "name": "stdout",
          "text": [
            "8/8 [==============================] - ETA: 0s - loss: 0.7992 - accuracy: 0.6109\n",
            "Epoch 1: val_accuracy improved from -inf to 0.65455, saving model to best_model_vgg.h5\n",
            "8/8 [==============================] - 37s 4s/step - loss: 0.7992 - accuracy: 0.6109 - val_loss: 0.6023 - val_accuracy: 0.6545\n",
            "Epoch 2/50\n"
          ]
        },
        {
          "output_type": "stream",
          "name": "stderr",
          "text": [
            "/usr/local/lib/python3.10/dist-packages/keras/src/engine/training.py:3103: UserWarning: You are saving your model as an HDF5 file via `model.save()`. This file format is considered legacy. We recommend using instead the native Keras format, e.g. `model.save('my_model.keras')`.\n",
            "  saving_api.save_model(\n"
          ]
        },
        {
          "output_type": "stream",
          "name": "stdout",
          "text": [
            "8/8 [==============================] - ETA: 0s - loss: 0.4809 - accuracy: 0.7739\n",
            "Epoch 2: val_accuracy improved from 0.65455 to 0.69091, saving model to best_model_vgg.h5\n",
            "8/8 [==============================] - 10s 1s/step - loss: 0.4809 - accuracy: 0.7739 - val_loss: 0.5847 - val_accuracy: 0.6909\n",
            "Epoch 3/50\n",
            "8/8 [==============================] - ETA: 0s - loss: 0.4737 - accuracy: 0.8022\n",
            "Epoch 3: val_accuracy did not improve from 0.69091\n",
            "8/8 [==============================] - 10s 1s/step - loss: 0.4737 - accuracy: 0.8022 - val_loss: 0.6907 - val_accuracy: 0.6000\n",
            "Epoch 4/50\n",
            "8/8 [==============================] - ETA: 0s - loss: 0.4671 - accuracy: 0.7913\n",
            "Epoch 4: val_accuracy did not improve from 0.69091\n",
            "8/8 [==============================] - 11s 1s/step - loss: 0.4671 - accuracy: 0.7913 - val_loss: 0.6958 - val_accuracy: 0.6545\n",
            "Epoch 5/50\n",
            "8/8 [==============================] - ETA: 0s - loss: 0.4221 - accuracy: 0.8130\n",
            "Epoch 5: val_accuracy did not improve from 0.69091\n",
            "8/8 [==============================] - 10s 1s/step - loss: 0.4221 - accuracy: 0.8130 - val_loss: 0.6319 - val_accuracy: 0.5818\n",
            "Epoch 6/50\n",
            "8/8 [==============================] - ETA: 0s - loss: 0.3585 - accuracy: 0.8478\n",
            "Epoch 6: val_accuracy did not improve from 0.69091\n",
            "8/8 [==============================] - 10s 1s/step - loss: 0.3585 - accuracy: 0.8478 - val_loss: 0.6489 - val_accuracy: 0.6364\n",
            "Epoch 7/50\n",
            "8/8 [==============================] - ETA: 0s - loss: 0.3220 - accuracy: 0.8717\n",
            "Epoch 7: val_accuracy did not improve from 0.69091\n",
            "8/8 [==============================] - 10s 1s/step - loss: 0.3220 - accuracy: 0.8717 - val_loss: 0.6484 - val_accuracy: 0.6364\n",
            "Epoch 8/50\n",
            "8/8 [==============================] - ETA: 0s - loss: 0.3306 - accuracy: 0.8391\n",
            "Epoch 8: val_accuracy did not improve from 0.69091\n",
            "8/8 [==============================] - 10s 1s/step - loss: 0.3306 - accuracy: 0.8391 - val_loss: 0.6054 - val_accuracy: 0.6545\n",
            "Epoch 9/50\n",
            "8/8 [==============================] - ETA: 0s - loss: 0.2953 - accuracy: 0.8826\n",
            "Epoch 9: val_accuracy did not improve from 0.69091\n",
            "8/8 [==============================] - 9s 1s/step - loss: 0.2953 - accuracy: 0.8826 - val_loss: 0.5626 - val_accuracy: 0.6364\n",
            "Epoch 10/50\n",
            "8/8 [==============================] - ETA: 0s - loss: 0.2607 - accuracy: 0.8870\n",
            "Epoch 10: val_accuracy improved from 0.69091 to 0.80000, saving model to best_model_vgg.h5\n",
            "8/8 [==============================] - 11s 1s/step - loss: 0.2607 - accuracy: 0.8870 - val_loss: 0.5005 - val_accuracy: 0.8000\n",
            "Epoch 11/50\n",
            "8/8 [==============================] - ETA: 0s - loss: 0.2407 - accuracy: 0.9043\n",
            "Epoch 11: val_accuracy did not improve from 0.80000\n",
            "8/8 [==============================] - 10s 1s/step - loss: 0.2407 - accuracy: 0.9043 - val_loss: 0.5223 - val_accuracy: 0.7091\n",
            "Epoch 12/50\n",
            "8/8 [==============================] - ETA: 0s - loss: 0.2732 - accuracy: 0.8696\n",
            "Epoch 12: val_accuracy did not improve from 0.80000\n",
            "8/8 [==============================] - 9s 1s/step - loss: 0.2732 - accuracy: 0.8696 - val_loss: 0.4811 - val_accuracy: 0.7636\n",
            "Epoch 13/50\n",
            "8/8 [==============================] - ETA: 0s - loss: 0.2273 - accuracy: 0.9087\n",
            "Epoch 13: val_accuracy did not improve from 0.80000\n",
            "8/8 [==============================] - 10s 1s/step - loss: 0.2273 - accuracy: 0.9087 - val_loss: 0.6110 - val_accuracy: 0.6727\n",
            "Epoch 14/50\n",
            "8/8 [==============================] - ETA: 0s - loss: 0.2498 - accuracy: 0.8935\n",
            "Epoch 14: val_accuracy did not improve from 0.80000\n",
            "8/8 [==============================] - 10s 1s/step - loss: 0.2498 - accuracy: 0.8935 - val_loss: 0.5433 - val_accuracy: 0.7273\n",
            "Epoch 15/50\n",
            "8/8 [==============================] - ETA: 0s - loss: 0.2419 - accuracy: 0.8978\n",
            "Epoch 15: val_accuracy did not improve from 0.80000\n",
            "8/8 [==============================] - 10s 1s/step - loss: 0.2419 - accuracy: 0.8978 - val_loss: 0.4818 - val_accuracy: 0.7636\n",
            "Epoch 16/50\n",
            "8/8 [==============================] - ETA: 0s - loss: 0.1925 - accuracy: 0.9283\n",
            "Epoch 16: val_accuracy did not improve from 0.80000\n",
            "8/8 [==============================] - 9s 1s/step - loss: 0.1925 - accuracy: 0.9283 - val_loss: 0.5663 - val_accuracy: 0.7455\n",
            "Epoch 17/50\n",
            "8/8 [==============================] - ETA: 0s - loss: 0.1928 - accuracy: 0.9217\n",
            "Epoch 17: val_accuracy did not improve from 0.80000\n",
            "8/8 [==============================] - 10s 1s/step - loss: 0.1928 - accuracy: 0.9217 - val_loss: 0.5195 - val_accuracy: 0.7091\n",
            "Epoch 18/50\n",
            "8/8 [==============================] - ETA: 0s - loss: 0.1678 - accuracy: 0.9391\n",
            "Epoch 18: val_accuracy did not improve from 0.80000\n",
            "8/8 [==============================] - 10s 1s/step - loss: 0.1678 - accuracy: 0.9391 - val_loss: 0.6504 - val_accuracy: 0.6545\n",
            "Epoch 19/50\n",
            "8/8 [==============================] - ETA: 0s - loss: 0.1980 - accuracy: 0.9196\n",
            "Epoch 19: val_accuracy did not improve from 0.80000\n",
            "8/8 [==============================] - 10s 1s/step - loss: 0.1980 - accuracy: 0.9196 - val_loss: 0.6567 - val_accuracy: 0.6727\n",
            "Epoch 20/50\n",
            "8/8 [==============================] - ETA: 0s - loss: 0.1986 - accuracy: 0.9109\n",
            "Epoch 20: val_accuracy did not improve from 0.80000\n",
            "8/8 [==============================] - 10s 1s/step - loss: 0.1986 - accuracy: 0.9109 - val_loss: 0.5072 - val_accuracy: 0.7273\n",
            "Epoch 21/50\n",
            "8/8 [==============================] - ETA: 0s - loss: 0.1589 - accuracy: 0.9304\n",
            "Epoch 21: val_accuracy did not improve from 0.80000\n",
            "8/8 [==============================] - 10s 1s/step - loss: 0.1589 - accuracy: 0.9304 - val_loss: 0.6208 - val_accuracy: 0.6727\n",
            "Epoch 22/50\n",
            "8/8 [==============================] - ETA: 0s - loss: 0.1992 - accuracy: 0.9109\n",
            "Epoch 22: val_accuracy did not improve from 0.80000\n",
            "8/8 [==============================] - 11s 1s/step - loss: 0.1992 - accuracy: 0.9109 - val_loss: 0.5631 - val_accuracy: 0.7455\n",
            "Epoch 23/50\n",
            "8/8 [==============================] - ETA: 0s - loss: 0.2063 - accuracy: 0.9152\n",
            "Epoch 23: val_accuracy did not improve from 0.80000\n",
            "8/8 [==============================] - 11s 1s/step - loss: 0.2063 - accuracy: 0.9152 - val_loss: 0.5451 - val_accuracy: 0.7636\n",
            "Epoch 24/50\n",
            "8/8 [==============================] - ETA: 0s - loss: 0.1543 - accuracy: 0.9413\n",
            "Epoch 24: val_accuracy did not improve from 0.80000\n",
            "8/8 [==============================] - 11s 1s/step - loss: 0.1543 - accuracy: 0.9413 - val_loss: 0.6111 - val_accuracy: 0.7455\n",
            "Epoch 25/50\n",
            "8/8 [==============================] - ETA: 0s - loss: 0.1652 - accuracy: 0.9348\n",
            "Epoch 25: val_accuracy did not improve from 0.80000\n",
            "8/8 [==============================] - 10s 1s/step - loss: 0.1652 - accuracy: 0.9348 - val_loss: 0.4614 - val_accuracy: 0.7273\n",
            "Epoch 26/50\n",
            "8/8 [==============================] - ETA: 0s - loss: 0.1543 - accuracy: 0.9500\n",
            "Epoch 26: val_accuracy did not improve from 0.80000\n",
            "8/8 [==============================] - 10s 1s/step - loss: 0.1543 - accuracy: 0.9500 - val_loss: 0.5507 - val_accuracy: 0.7091\n",
            "Epoch 27/50\n",
            "8/8 [==============================] - ETA: 0s - loss: 0.1294 - accuracy: 0.9565\n",
            "Epoch 27: val_accuracy did not improve from 0.80000\n",
            "8/8 [==============================] - 9s 1s/step - loss: 0.1294 - accuracy: 0.9565 - val_loss: 0.5445 - val_accuracy: 0.6909\n",
            "Epoch 28/50\n",
            "8/8 [==============================] - ETA: 0s - loss: 0.1029 - accuracy: 0.9587\n",
            "Epoch 28: val_accuracy did not improve from 0.80000\n",
            "8/8 [==============================] - 10s 1s/step - loss: 0.1029 - accuracy: 0.9587 - val_loss: 0.5680 - val_accuracy: 0.8000\n",
            "Epoch 29/50\n",
            "8/8 [==============================] - ETA: 0s - loss: 0.1464 - accuracy: 0.9370\n",
            "Epoch 29: val_accuracy did not improve from 0.80000\n",
            "8/8 [==============================] - 10s 1s/step - loss: 0.1464 - accuracy: 0.9370 - val_loss: 0.5652 - val_accuracy: 0.7636\n",
            "Epoch 30/50\n",
            "8/8 [==============================] - ETA: 0s - loss: 0.1232 - accuracy: 0.9652\n",
            "Epoch 30: val_accuracy did not improve from 0.80000\n",
            "8/8 [==============================] - 11s 1s/step - loss: 0.1232 - accuracy: 0.9652 - val_loss: 0.4975 - val_accuracy: 0.7455\n",
            "Epoch 31/50\n",
            "8/8 [==============================] - ETA: 0s - loss: 0.0925 - accuracy: 0.9587\n",
            "Epoch 31: val_accuracy did not improve from 0.80000\n",
            "8/8 [==============================] - 11s 1s/step - loss: 0.0925 - accuracy: 0.9587 - val_loss: 0.5783 - val_accuracy: 0.7455\n",
            "Epoch 32/50\n",
            "8/8 [==============================] - ETA: 0s - loss: 0.1403 - accuracy: 0.9478\n",
            "Epoch 32: val_accuracy did not improve from 0.80000\n",
            "8/8 [==============================] - 9s 1s/step - loss: 0.1403 - accuracy: 0.9478 - val_loss: 0.6573 - val_accuracy: 0.7273\n",
            "Epoch 33/50\n",
            "8/8 [==============================] - ETA: 0s - loss: 0.1098 - accuracy: 0.9478\n",
            "Epoch 33: val_accuracy did not improve from 0.80000\n",
            "8/8 [==============================] - 10s 1s/step - loss: 0.1098 - accuracy: 0.9478 - val_loss: 0.6157 - val_accuracy: 0.7455\n",
            "Epoch 34/50\n",
            "8/8 [==============================] - ETA: 0s - loss: 0.1336 - accuracy: 0.9543\n",
            "Epoch 34: val_accuracy did not improve from 0.80000\n",
            "8/8 [==============================] - 10s 1s/step - loss: 0.1336 - accuracy: 0.9543 - val_loss: 0.5254 - val_accuracy: 0.7455\n",
            "Epoch 35/50\n",
            "8/8 [==============================] - ETA: 0s - loss: 0.1242 - accuracy: 0.9435\n",
            "Epoch 35: val_accuracy did not improve from 0.80000\n",
            "8/8 [==============================] - 10s 1s/step - loss: 0.1242 - accuracy: 0.9435 - val_loss: 0.4090 - val_accuracy: 0.7818\n",
            "Epoch 36/50\n",
            "8/8 [==============================] - ETA: 0s - loss: 0.1198 - accuracy: 0.9565\n",
            "Epoch 36: val_accuracy did not improve from 0.80000\n",
            "8/8 [==============================] - 9s 1s/step - loss: 0.1198 - accuracy: 0.9565 - val_loss: 0.5448 - val_accuracy: 0.7636\n",
            "Epoch 37/50\n",
            "8/8 [==============================] - ETA: 0s - loss: 0.1297 - accuracy: 0.9500\n",
            "Epoch 37: val_accuracy did not improve from 0.80000\n",
            "8/8 [==============================] - 10s 1s/step - loss: 0.1297 - accuracy: 0.9500 - val_loss: 0.6043 - val_accuracy: 0.6909\n",
            "Epoch 38/50\n",
            "8/8 [==============================] - ETA: 0s - loss: 0.1194 - accuracy: 0.9565\n",
            "Epoch 38: val_accuracy did not improve from 0.80000\n",
            "8/8 [==============================] - 10s 1s/step - loss: 0.1194 - accuracy: 0.9565 - val_loss: 0.5033 - val_accuracy: 0.8000\n",
            "Epoch 39/50\n",
            "8/8 [==============================] - ETA: 0s - loss: 0.1054 - accuracy: 0.9630\n",
            "Epoch 39: val_accuracy improved from 0.80000 to 0.81818, saving model to best_model_vgg.h5\n",
            "8/8 [==============================] - 11s 1s/step - loss: 0.1054 - accuracy: 0.9630 - val_loss: 0.4773 - val_accuracy: 0.8182\n",
            "Epoch 40/50\n",
            "8/8 [==============================] - ETA: 0s - loss: 0.1408 - accuracy: 0.9522\n",
            "Epoch 40: val_accuracy did not improve from 0.81818\n",
            "8/8 [==============================] - 9s 1s/step - loss: 0.1408 - accuracy: 0.9522 - val_loss: 0.7378 - val_accuracy: 0.7455\n",
            "Epoch 41/50\n",
            "8/8 [==============================] - ETA: 0s - loss: 0.0964 - accuracy: 0.9587\n",
            "Epoch 41: val_accuracy did not improve from 0.81818\n",
            "8/8 [==============================] - 10s 1s/step - loss: 0.0964 - accuracy: 0.9587 - val_loss: 0.6142 - val_accuracy: 0.7273\n",
            "Epoch 42/50\n",
            "8/8 [==============================] - ETA: 0s - loss: 0.0900 - accuracy: 0.9696\n",
            "Epoch 42: val_accuracy did not improve from 0.81818\n",
            "8/8 [==============================] - 10s 1s/step - loss: 0.0900 - accuracy: 0.9696 - val_loss: 0.6389 - val_accuracy: 0.7455\n",
            "Epoch 43/50\n",
            "8/8 [==============================] - ETA: 0s - loss: 0.1002 - accuracy: 0.9565\n",
            "Epoch 43: val_accuracy did not improve from 0.81818\n",
            "8/8 [==============================] - 9s 1s/step - loss: 0.1002 - accuracy: 0.9565 - val_loss: 0.4787 - val_accuracy: 0.8000\n",
            "Epoch 44/50\n",
            "8/8 [==============================] - ETA: 0s - loss: 0.0955 - accuracy: 0.9652\n",
            "Epoch 44: val_accuracy did not improve from 0.81818\n",
            "8/8 [==============================] - 10s 1s/step - loss: 0.0955 - accuracy: 0.9652 - val_loss: 0.6684 - val_accuracy: 0.7636\n",
            "Epoch 45/50\n",
            "8/8 [==============================] - ETA: 0s - loss: 0.0995 - accuracy: 0.9565\n",
            "Epoch 45: val_accuracy did not improve from 0.81818\n",
            "8/8 [==============================] - 10s 1s/step - loss: 0.0995 - accuracy: 0.9565 - val_loss: 0.6629 - val_accuracy: 0.8000\n",
            "Epoch 46/50\n",
            "8/8 [==============================] - ETA: 0s - loss: 0.0904 - accuracy: 0.9696\n",
            "Epoch 46: val_accuracy did not improve from 0.81818\n",
            "8/8 [==============================] - 11s 1s/step - loss: 0.0904 - accuracy: 0.9696 - val_loss: 0.6322 - val_accuracy: 0.7636\n",
            "Epoch 47/50\n",
            "8/8 [==============================] - ETA: 0s - loss: 0.1017 - accuracy: 0.9674\n",
            "Epoch 47: val_accuracy did not improve from 0.81818\n",
            "8/8 [==============================] - 12s 1s/step - loss: 0.1017 - accuracy: 0.9674 - val_loss: 0.5441 - val_accuracy: 0.8000\n",
            "Epoch 48/50\n",
            "8/8 [==============================] - ETA: 0s - loss: 0.0717 - accuracy: 0.9739\n",
            "Epoch 48: val_accuracy did not improve from 0.81818\n",
            "8/8 [==============================] - 10s 1s/step - loss: 0.0717 - accuracy: 0.9739 - val_loss: 0.5968 - val_accuracy: 0.7636\n",
            "Epoch 49/50\n",
            "8/8 [==============================] - ETA: 0s - loss: 0.0989 - accuracy: 0.9500\n",
            "Epoch 49: val_accuracy did not improve from 0.81818\n",
            "8/8 [==============================] - 9s 1s/step - loss: 0.0989 - accuracy: 0.9500 - val_loss: 0.7405 - val_accuracy: 0.7455\n",
            "Epoch 50/50\n",
            "8/8 [==============================] - ETA: 0s - loss: 0.0638 - accuracy: 0.9783\n",
            "Epoch 50: val_accuracy did not improve from 0.81818\n",
            "8/8 [==============================] - 10s 1s/step - loss: 0.0638 - accuracy: 0.9783 - val_loss: 0.8610 - val_accuracy: 0.7818\n"
          ]
        }
      ],
      "source": [
        "import tensorflow as tf\n",
        "from tensorflow.keras.models import Sequential\n",
        "from tensorflow.keras.layers import Dense, Dropout, BatchNormalization\n",
        "from tensorflow.keras.callbacks import ModelCheckpoint\n",
        "\n",
        "# Assuming train_gen and valid_gen are your image data generators\n",
        "\n",
        "img_size = (224, 224)\n",
        "channels = 3\n",
        "img_shape = (img_size[0], img_size[1], channels)\n",
        "class_count = len(list(train_gen.class_indices.keys()))\n",
        "\n",
        "# Create pre-trained model\n",
        "base_model = tf.keras.applications.VGG16(include_top=False, weights=\"imagenet\", input_shape=img_shape, pooling='max')\n",
        "for layer in base_model.layers:\n",
        "    layer.trainable = False\n",
        "model = Sequential([\n",
        "    base_model,\n",
        "    BatchNormalization(),\n",
        "    Dense(256, activation='relu'),\n",
        "    Dropout(0.3),\n",
        "     Dense(64, activation='relu'),\n",
        "    Dropout(0.3),\n",
        "    Dense(class_count, activation='softmax')\n",
        "])\n",
        "\n",
        "optimizer = tf.keras.optimizers.Adam()\n",
        "model.compile(optimizer=optimizer, loss='categorical_crossentropy', metrics=['accuracy'])\n",
        "\n",
        "# Define filepath to save the best model\n",
        "filepath = 'best_model_vgg.h5'\n",
        "\n",
        "# Create ModelCheckpoint callback to save the best model based on validation accuracy\n",
        "checkpoint = ModelCheckpoint(filepath, monitor='val_accuracy', verbose=1, save_best_only=True, mode='max')\n",
        "# Train the model with the added callback\n",
        "history = model.fit(\n",
        "    x=train_gen,\n",
        "    epochs=50,\n",
        "    verbose=1,\n",
        "    validation_data=valid_gen,\n",
        "    callbacks=[checkpoint]\n",
        ")"
      ]
    },
    {
      "cell_type": "code",
      "execution_count": null,
      "id": "b7785c24",
      "metadata": {
        "execution": {
          "iopub.execute_input": "2024-01-20T18:45:57.324387Z",
          "iopub.status.busy": "2024-01-20T18:45:57.324039Z",
          "iopub.status.idle": "2024-01-20T18:46:07.991286Z",
          "shell.execute_reply": "2024-01-20T18:46:07.990393Z"
        },
        "papermill": {
          "duration": 10.718513,
          "end_time": "2024-01-20T18:46:07.993159",
          "exception": false,
          "start_time": "2024-01-20T18:45:57.274646",
          "status": "completed"
        },
        "tags": [],
        "colab": {
          "base_uri": "https://localhost:8080/"
        },
        "id": "b7785c24",
        "outputId": "b0345ad5-d861-4295-c804-29ada240a6b8"
      },
      "outputs": [
        {
          "output_type": "stream",
          "name": "stdout",
          "text": [
            "8/8 [==============================] - 8s 926ms/step - loss: 0.0579 - accuracy: 0.9826\n",
            "1/1 [==============================] - 1s 1s/step - loss: 0.6390 - accuracy: 0.7091\n",
            "1/1 [==============================] - 12s 12s/step - loss: 0.6431 - accuracy: 0.8167\n",
            "Train Loss:  0.05794895812869072\n",
            "Train Accuracy:  0.9826086759567261\n",
            "--------------------\n",
            "Validation Loss:  0.639034628868103\n",
            "Validation Accuracy:  0.7090908885002136\n",
            "--------------------\n",
            "Test Loss:  0.6431353092193604\n",
            "Test Accuracy:  0.8166666626930237\n"
          ]
        }
      ],
      "source": [
        "import tensorflow as tf\n",
        "from tensorflow.keras.models import load_model, Model\n",
        "from tensorflow.keras.layers import Input, Average\n",
        "\n",
        "\n",
        "\n",
        "model= load_model('best_model_vgg.h5')\n",
        "\n",
        "\n",
        "train_score = model.evaluate(train_gen, steps= len(train_gen), verbose= 1)\n",
        "valid_score = model.evaluate(valid_gen, steps= len(valid_gen), verbose= 1)\n",
        "test_score = model.evaluate(test_gen, steps= len(test_gen), verbose= 1)\n",
        "\n",
        "print(\"Train Loss: \", train_score[0])\n",
        "print(\"Train Accuracy: \", train_score[1])\n",
        "print('-' * 20)\n",
        "print(\"Validation Loss: \", valid_score[0])\n",
        "print(\"Validation Accuracy: \", valid_score[1])\n",
        "print('-' * 20)\n",
        "print(\"Test Loss: \", test_score[0])\n",
        "print(\"Test Accuracy: \", test_score[1])"
      ]
    },
    {
      "cell_type": "code",
      "execution_count": null,
      "id": "62efdbab",
      "metadata": {
        "execution": {
          "iopub.execute_input": "2024-01-20T18:46:08.092954Z",
          "iopub.status.busy": "2024-01-20T18:46:08.092645Z",
          "iopub.status.idle": "2024-01-20T18:46:09.310489Z",
          "shell.execute_reply": "2024-01-20T18:46:09.309395Z"
        },
        "papermill": {
          "duration": 1.269863,
          "end_time": "2024-01-20T18:46:09.312725",
          "exception": false,
          "start_time": "2024-01-20T18:46:08.042862",
          "status": "completed"
        },
        "tags": [],
        "colab": {
          "base_uri": "https://localhost:8080/"
        },
        "id": "62efdbab",
        "outputId": "fb565dfe-afe9-46e3-c572-ee3f54848226"
      },
      "outputs": [
        {
          "output_type": "stream",
          "name": "stderr",
          "text": [
            "<ipython-input-19-192cfa0cd1d9>:2: UserWarning: `Model.predict_generator` is deprecated and will be removed in a future version. Please use `Model.predict`, which supports generators.\n",
            "  preds = model.predict_generator(test_gen)\n"
          ]
        },
        {
          "output_type": "stream",
          "name": "stdout",
          "text": [
            "[0 0 0 0 0 0 0 0 1 0 1 0 0 1 0 0 0 0 1 1 0 1 0 0 0 1 0 0 0 0 1 1 1 0 1 1 1\n",
            " 1 0 1 1 1 0 0 1 1 1 1 1 1 1 1 1 1 1 1 1 1 1 1]\n"
          ]
        }
      ],
      "source": [
        "model = load_model('best_model_vgg.h5')\n",
        "preds = model.predict_generator(test_gen)\n",
        "y_pred = np.argmax(preds, axis=1)\n",
        "print(y_pred)"
      ]
    },
    {
      "cell_type": "code",
      "execution_count": null,
      "id": "4cc51dae",
      "metadata": {
        "execution": {
          "iopub.execute_input": "2024-01-20T18:46:09.417532Z",
          "iopub.status.busy": "2024-01-20T18:46:09.416998Z",
          "iopub.status.idle": "2024-01-20T18:46:09.891870Z",
          "shell.execute_reply": "2024-01-20T18:46:09.890917Z"
        },
        "papermill": {
          "duration": 0.527989,
          "end_time": "2024-01-20T18:46:09.894082",
          "exception": false,
          "start_time": "2024-01-20T18:46:09.366093",
          "status": "completed"
        },
        "tags": [],
        "colab": {
          "base_uri": "https://localhost:8080/",
          "height": 1000
        },
        "id": "4cc51dae",
        "outputId": "85c94f26-7899-433b-e926-08004d3108c4"
      },
      "outputs": [
        {
          "output_type": "stream",
          "name": "stdout",
          "text": [
            "Confusion Matrix, Without Normalization\n",
            "[[23  7]\n",
            " [ 4 26]]\n",
            "              precision    recall  f1-score   support\n",
            "\n",
            "        nike       0.85      0.77      0.81        30\n",
            "      adidas       0.79      0.87      0.83        30\n",
            "\n",
            "    accuracy                           0.82        60\n",
            "   macro avg       0.82      0.82      0.82        60\n",
            "weighted avg       0.82      0.82      0.82        60\n",
            "\n"
          ]
        },
        {
          "output_type": "display_data",
          "data": {
            "text/plain": [
              "<Figure size 1000x1000 with 2 Axes>"
            ],
            "image/png": "[encoded data removed]"
          },
          "metadata": {}
        }
      ],
      "source": [
        "from sklearn.metrics import confusion_matrix, classification_report\n",
        "import matplotlib.pyplot as plt\n",
        "\n",
        "# Confusion matrix\n",
        "cm = confusion_matrix(test_gen.classes, y_pred)\n",
        "plot_confusion_matrix(cm= cm, classes= target_names, title = 'Confusion Matrix')\n",
        "# Classification report\n",
        "print(classification_report(test_gen.classes, y_pred, target_names= target_names))"
      ]
    }
  ],
  "metadata": {
    "kaggle": {
      "accelerator": "nvidiaTeslaT4",
      "dataSources": [
        {
          "datasetId": 2361804,
          "sourceId": 3980041,
          "sourceType": "datasetVersion"
        }
      ],
      "dockerImageVersionId": 30636,
      "isGpuEnabled": true,
      "isInternetEnabled": true,
      "language": "python",
      "sourceType": "notebook"
    },
    "kernelspec": {
      "display_name": "Python 3",
      "name": "python3"
    },
    "language_info": {
      "codemirror_mode": {
        "name": "ipython",
        "version": 3
      },
      "file_extension": ".py",
      "mimetype": "text/x-python",
      "name": "python",
      "nbconvert_exporter": "python",
      "pygments_lexer": "ipython3",
      "version": "3.10.12"
    },
    "papermill": {
      "default_parameters": {},
      "duration": 592.9947,
      "end_time": "2024-01-20T18:46:13.072719",
      "environment_variables": {},
      "exception": null,
      "input_path": "__notebook__.ipynb",
      "output_path": "__notebook__.ipynb",
      "parameters": {},
      "start_time": "2024-01-20T18:36:20.078019",
      "version": "2.4.0"
    },
    "colab": {
      "provenance": [],
      "gpuType": "T4"
    },
    "accelerator": "GPU"
  },
  "nbformat": 4,
  "nbformat_minor": 5
}